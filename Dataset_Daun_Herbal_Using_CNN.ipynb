{
  "nbformat": 4,
  "nbformat_minor": 0,
  "metadata": {
    "colab": {
      "name": "Dataset_Daun_Herbal_Using_CNN.ipynb",
      "provenance": [],
      "collapsed_sections": [],
      "include_colab_link": true
    },
    "kernelspec": {
      "name": "python3",
      "display_name": "Python 3"
    },
    "language_info": {
      "name": "python"
    }
  },
  "cells": [
    {
      "cell_type": "markdown",
      "metadata": {
        "id": "view-in-github",
        "colab_type": "text"
      },
      "source": [
        "<a href=\"https://colab.research.google.com/github/AriiqZuhriY/Dataset-Daun-Jeruk-Nipis-dan-Daun-Sirih_391_397/blob/main/Dataset_Daun_Herbal_Using_CNN.ipynb\" target=\"_parent\"><img src=\"https://colab.research.google.com/assets/colab-badge.svg\" alt=\"Open In Colab\"/></a>"
      ]
    },
    {
      "cell_type": "markdown",
      "source": [
        "#**Image Classification Dataset Daun Herbal Menggunakan Metode CNN (Convolutional Neural Network)**\n",
        "___\n",
        "# Kecerdasan Buatan 5H\n",
        "#### Disusun Oleh:\n",
        "#### 1. Ariiq Zuhri Y.   (201910370311391)\n",
        "#### 2. Husain Syauqi A. (201910370311397)"
      ],
      "metadata": {
        "id": "GwJgsgYgKUFi"
      }
    },
    {
      "cell_type": "markdown",
      "source": [
        "# 01. Initializing"
      ],
      "metadata": {
        "id": "HG70lZWiMB9j"
      }
    },
    {
      "cell_type": "markdown",
      "source": [
        "### #001 - Mount Google Drive"
      ],
      "metadata": {
        "id": "E6ZhekoHMqZ3"
      }
    },
    {
      "cell_type": "code",
      "source": [
        "# Mount GDrive : Untuk menyimpan hasil maupun mengambil file dari GDrive untuk diolah\n",
        "from google.colab import drive\n",
        "drive.mount(\"/content/gdrive\")"
      ],
      "metadata": {
        "colab": {
          "base_uri": "https://localhost:8080/"
        },
        "id": "k-QVLcQMMi85",
        "outputId": "65bf6fb5-5701-4a1f-cfe6-a9bdb49f8971"
      },
      "execution_count": 1,
      "outputs": [
        {
          "output_type": "stream",
          "name": "stdout",
          "text": [
            "Mounted at /content/gdrive\n"
          ]
        }
      ]
    },
    {
      "cell_type": "markdown",
      "source": [
        "### #002 - Create Required Folders"
      ],
      "metadata": {
        "id": "lg98xZLeQFZy"
      }
    },
    {
      "cell_type": "code",
      "source": [
        "# Kita buat beberapa folder yang akan kita gunakan untuk menampung hasil dari pemrosesan nanti\n",
        "# importing os module \n",
        "import os\n",
        "\n",
        "# Parent Directory path\n",
        "parent_dir = \"/content/gdrive/MyDrive/Colab Notebooks/DH_CNN\"\n",
        "\n",
        "# 01 - Membuat folder dengan nama 'Dataset Original' ---> Untuk menampung dataset kita\n",
        "directory_dataset_original = \"Dataset Original\"\n",
        "\n",
        "# Path\n",
        "path = os.path.join(parent_dir, directory_dataset_original)\n",
        "\n",
        "# Create the directory\n",
        "\n",
        "try:\n",
        "    os.mkdir(path)\n",
        "    print(\"Directory \" + directory_dataset_original + \" created\")\n",
        "except OSError as error:\n",
        "    print(error)"
      ],
      "metadata": {
        "id": "oCiqzUJoQXGX",
        "colab": {
          "base_uri": "https://localhost:8080/"
        },
        "outputId": "d375681a-2fd2-43cf-b96c-55791e61dd90"
      },
      "execution_count": 3,
      "outputs": [
        {
          "output_type": "stream",
          "name": "stdout",
          "text": [
            "Directory Dataset Original created\n"
          ]
        }
      ]
    },
    {
      "cell_type": "code",
      "source": [
        "# 02 - Membuat folder dengan nama 'Analyze Dataset' ---> Untuk menampung hasil proses splitting dan cek dataset\n",
        "directory_analyze_dataset = \"Analyze Dataset\"\n",
        "\n",
        "# Path\n",
        "path = os.path.join(parent_dir, directory_analyze_dataset)\n",
        "\n",
        "# Create the directory\n",
        "try:\n",
        "    os.mkdir(path)\n",
        "    print(\"Directory \" + directory_analyze_dataset + \" created\")\n",
        "except OSError as error:\n",
        "    print(error)"
      ],
      "metadata": {
        "id": "cUY1g8L0S19B",
        "colab": {
          "base_uri": "https://localhost:8080/"
        },
        "outputId": "18032687-9946-473b-a0a9-1af276a73fc9"
      },
      "execution_count": 4,
      "outputs": [
        {
          "output_type": "stream",
          "name": "stdout",
          "text": [
            "Directory Analyze Dataset created\n"
          ]
        }
      ]
    },
    {
      "cell_type": "code",
      "source": [
        "# 03 - Membuat folder dengan nama 'Model Dataset Daun' ---> Pada tahap ini kita telah memg-compile model kita dan menyimpannya di folder ini\n",
        "directory_model_dataset = \"Model Dataset Daun\"\n",
        "\n",
        "# Path\n",
        "path = os.path.join(parent_dir, directory_model_dataset)\n",
        "\n",
        "# Create the directory\n",
        "try:\n",
        "    os.mkdir(path)\n",
        "    print(\"Directory \" + directory_model_dataset + \" created\")\n",
        "except OSError as error:\n",
        "    print(error)"
      ],
      "metadata": {
        "id": "Zg-3jFWwTM3Y",
        "colab": {
          "base_uri": "https://localhost:8080/"
        },
        "outputId": "f08f3b84-1540-4786-8900-ef6b035fca3e"
      },
      "execution_count": 5,
      "outputs": [
        {
          "output_type": "stream",
          "name": "stdout",
          "text": [
            "Directory Model Dataset Daun created\n"
          ]
        }
      ]
    },
    {
      "cell_type": "code",
      "source": [
        "# 04 - Membuat folder dengan nama 'Test Algorithm' ---> Voila!, test your dataset and save them here \n",
        "directory_test_algorithm = \"Test Algorithm\"\n",
        "\n",
        "# Path\n",
        "path = os.path.join(parent_dir, directory_test_algorithm)\n",
        "\n",
        "# Create the directory\n",
        "try:\n",
        "    os.mkdir(path)\n",
        "    print(\"Directory \" + directory_test_algorithm + \" created\")\n",
        "except OSError as error:\n",
        "    print(error)"
      ],
      "metadata": {
        "id": "kSqOf5HyTZMP",
        "colab": {
          "base_uri": "https://localhost:8080/"
        },
        "outputId": "b20787a9-08f4-487e-ef96-d912b5b585ba"
      },
      "execution_count": 6,
      "outputs": [
        {
          "output_type": "stream",
          "name": "stdout",
          "text": [
            "Directory Test Algorithm created\n"
          ]
        }
      ]
    },
    {
      "cell_type": "markdown",
      "source": [
        "### #003 - Import Dataset"
      ],
      "metadata": {
        "id": "YeGRshfAMxYQ"
      }
    },
    {
      "cell_type": "code",
      "source": [
        "# Download dataset dari github dan masukkan kedalam directory tmp google collab\n",
        "\n",
        "# Dataset daun sirih\n",
        "!wget --no-check-certificate  \\\n",
        "https://github.com/AriiqZuhriY/Dataset-Daun-Jeruk-Nipis-dan-Daun-Sirih_391_397/raw/main/Dataset/Daun%20Jeruk.zip \\\n",
        "-O /tmp/Daun_Jeruk.zip\n",
        "\n",
        "# Dataset daun jeruk \n",
        "!wget --no-check-certificate  \\\n",
        "https://github.com/AriiqZuhriY/Dataset-Daun-Jeruk-Nipis-dan-Daun-Sirih_391_397/raw/main/Dataset/Daun%20Sirih.zip \\\n",
        "-O /tmp/Daun_Sirih.zip\n",
        "\n",
        "# Dataset daun belimbing wuluh \n",
        "!wget --no-check-certificate  \\\n",
        "https://github.com/HusainSyauqi/Dataset/raw/main/Belimbing%20wuluh.zip \\\n",
        "-O /tmp/Belimbing_wuluh.zip\n",
        "\n",
        "# Dataset daun pepaya \n",
        "!wget --no-check-certificate  \\\n",
        "https://github.com/HusainSyauqi/Dataset/raw/main/Pepaya.zip \\\n",
        "-O /tmp/Pepaya.zip\n",
        "\n",
        "# Dataset daun jambu biji \n",
        "!wget --no-check-certificate  \\\n",
        "https://github.com/HusainSyauqi/Dataset/raw/main/Jambu%20Biji.zip \\\n",
        "-O /tmp/Jambu_Biji.zip\n",
        "\n",
        "# Dataset daun lidah buaya \n",
        "!wget --no-check-certificate  \\\n",
        "https://github.com/HusainSyauqi/Dataset/raw/main/Lidah%20Buaya.zip \\\n",
        "-O /tmp/Lidah_Buaya.zip\n",
        "\n",
        "# Dataset daun seledri\n",
        "!wget --no-check-certificate  \\\n",
        "https://github.com/HusainSyauqi/Dataset/raw/main/Seledri.zip \\\n",
        "-O /tmp/Seledri.zip "
      ],
      "metadata": {
        "colab": {
          "base_uri": "https://localhost:8080/"
        },
        "id": "lJAeOdwlMyHX",
        "outputId": "906dc1b9-8df0-4844-b1d7-83dd765b4bc4"
      },
      "execution_count": 11,
      "outputs": [
        {
          "output_type": "stream",
          "name": "stdout",
          "text": [
            "--2021-12-31 13:00:55--  https://github.com/AriiqZuhriY/Dataset-Daun-Jeruk-Nipis-dan-Daun-Sirih_391_397/raw/main/Dataset/Daun%20Jeruk.zip\n",
            "Resolving github.com (github.com)... 140.82.113.3\n",
            "Connecting to github.com (github.com)|140.82.113.3|:443... connected.\n",
            "HTTP request sent, awaiting response... 302 Found\n",
            "Location: https://raw.githubusercontent.com/AriiqZuhriY/Dataset-Daun-Jeruk-Nipis-dan-Daun-Sirih_391_397/main/Dataset/Daun%20Jeruk.zip [following]\n",
            "--2021-12-31 13:00:55--  https://raw.githubusercontent.com/AriiqZuhriY/Dataset-Daun-Jeruk-Nipis-dan-Daun-Sirih_391_397/main/Dataset/Daun%20Jeruk.zip\n",
            "Resolving raw.githubusercontent.com (raw.githubusercontent.com)... 185.199.108.133, 185.199.109.133, 185.199.110.133, ...\n",
            "Connecting to raw.githubusercontent.com (raw.githubusercontent.com)|185.199.108.133|:443... connected.\n",
            "HTTP request sent, awaiting response... 200 OK\n",
            "Length: 9995665 (9.5M) [application/zip]\n",
            "Saving to: ‘/tmp/Daun_Jeruk.zip’\n",
            "\n",
            "/tmp/Daun_Jeruk.zip 100%[===================>]   9.53M  --.-KB/s    in 0.03s   \n",
            "\n",
            "2021-12-31 13:00:55 (283 MB/s) - ‘/tmp/Daun_Jeruk.zip’ saved [9995665/9995665]\n",
            "\n",
            "--2021-12-31 13:00:55--  https://github.com/AriiqZuhriY/Dataset-Daun-Jeruk-Nipis-dan-Daun-Sirih_391_397/raw/main/Dataset/Daun%20Sirih.zip\n",
            "Resolving github.com (github.com)... 140.82.113.4\n",
            "Connecting to github.com (github.com)|140.82.113.4|:443... connected.\n",
            "HTTP request sent, awaiting response... 302 Found\n",
            "Location: https://raw.githubusercontent.com/AriiqZuhriY/Dataset-Daun-Jeruk-Nipis-dan-Daun-Sirih_391_397/main/Dataset/Daun%20Sirih.zip [following]\n",
            "--2021-12-31 13:00:55--  https://raw.githubusercontent.com/AriiqZuhriY/Dataset-Daun-Jeruk-Nipis-dan-Daun-Sirih_391_397/main/Dataset/Daun%20Sirih.zip\n",
            "Resolving raw.githubusercontent.com (raw.githubusercontent.com)... 185.199.108.133, 185.199.111.133, 185.199.109.133, ...\n",
            "Connecting to raw.githubusercontent.com (raw.githubusercontent.com)|185.199.108.133|:443... connected.\n",
            "HTTP request sent, awaiting response... 200 OK\n",
            "Length: 7998846 (7.6M) [application/zip]\n",
            "Saving to: ‘/tmp/Daun_Sirih.zip’\n",
            "\n",
            "/tmp/Daun_Sirih.zip 100%[===================>]   7.63M  --.-KB/s    in 0.03s   \n",
            "\n",
            "2021-12-31 13:00:55 (268 MB/s) - ‘/tmp/Daun_Sirih.zip’ saved [7998846/7998846]\n",
            "\n",
            "--2021-12-31 13:00:55--  https://github.com/HusainSyauqi/Dataset/raw/main/Belimbing%20wuluh.zip\n",
            "Resolving github.com (github.com)... 140.82.114.3\n",
            "Connecting to github.com (github.com)|140.82.114.3|:443... connected.\n",
            "HTTP request sent, awaiting response... 302 Found\n",
            "Location: https://raw.githubusercontent.com/HusainSyauqi/Dataset/main/Belimbing%20wuluh.zip [following]\n",
            "--2021-12-31 13:00:56--  https://raw.githubusercontent.com/HusainSyauqi/Dataset/main/Belimbing%20wuluh.zip\n",
            "Resolving raw.githubusercontent.com (raw.githubusercontent.com)... 185.199.108.133, 185.199.109.133, 185.199.110.133, ...\n",
            "Connecting to raw.githubusercontent.com (raw.githubusercontent.com)|185.199.108.133|:443... connected.\n",
            "HTTP request sent, awaiting response... 200 OK\n",
            "Length: 4824040 (4.6M) [application/zip]\n",
            "Saving to: ‘/tmp/Belimbing_wuluh.zip’\n",
            "\n",
            "/tmp/Belimbing_wulu 100%[===================>]   4.60M  --.-KB/s    in 0.02s   \n",
            "\n",
            "2021-12-31 13:00:56 (187 MB/s) - ‘/tmp/Belimbing_wuluh.zip’ saved [4824040/4824040]\n",
            "\n",
            "--2021-12-31 13:00:56--  https://github.com/HusainSyauqi/Dataset/raw/main/Pepaya.zip\n",
            "Resolving github.com (github.com)... 140.82.114.3\n",
            "Connecting to github.com (github.com)|140.82.114.3|:443... connected.\n",
            "HTTP request sent, awaiting response... 302 Found\n",
            "Location: https://raw.githubusercontent.com/HusainSyauqi/Dataset/main/Pepaya.zip [following]\n",
            "--2021-12-31 13:00:57--  https://raw.githubusercontent.com/HusainSyauqi/Dataset/main/Pepaya.zip\n",
            "Resolving raw.githubusercontent.com (raw.githubusercontent.com)... 185.199.108.133, 185.199.109.133, 185.199.110.133, ...\n",
            "Connecting to raw.githubusercontent.com (raw.githubusercontent.com)|185.199.108.133|:443... connected.\n",
            "HTTP request sent, awaiting response... 200 OK\n",
            "Length: 8846511 (8.4M) [application/zip]\n",
            "Saving to: ‘/tmp/Pepaya.zip’\n",
            "\n",
            "/tmp/Pepaya.zip     100%[===================>]   8.44M  --.-KB/s    in 0.03s   \n",
            "\n",
            "2021-12-31 13:00:57 (274 MB/s) - ‘/tmp/Pepaya.zip’ saved [8846511/8846511]\n",
            "\n",
            "--2021-12-31 13:00:57--  https://github.com/HusainSyauqi/Dataset/raw/main/Jambu%20Biji.zip\n",
            "Resolving github.com (github.com)... 140.82.114.3\n",
            "Connecting to github.com (github.com)|140.82.114.3|:443... connected.\n",
            "HTTP request sent, awaiting response... 302 Found\n",
            "Location: https://raw.githubusercontent.com/HusainSyauqi/Dataset/main/Jambu%20Biji.zip [following]\n",
            "--2021-12-31 13:00:57--  https://raw.githubusercontent.com/HusainSyauqi/Dataset/main/Jambu%20Biji.zip\n",
            "Resolving raw.githubusercontent.com (raw.githubusercontent.com)... 185.199.108.133, 185.199.110.133, 185.199.109.133, ...\n",
            "Connecting to raw.githubusercontent.com (raw.githubusercontent.com)|185.199.108.133|:443... connected.\n",
            "HTTP request sent, awaiting response... 200 OK\n",
            "Length: 15951770 (15M) [application/zip]\n",
            "Saving to: ‘/tmp/Jambu_Biji.zip’\n",
            "\n",
            "/tmp/Jambu_Biji.zip 100%[===================>]  15.21M  --.-KB/s    in 0.05s   \n",
            "\n",
            "2021-12-31 13:00:57 (282 MB/s) - ‘/tmp/Jambu_Biji.zip’ saved [15951770/15951770]\n",
            "\n",
            "--2021-12-31 13:00:57--  https://github.com/HusainSyauqi/Dataset/raw/main/Lidah%20Buaya.zip\n",
            "Resolving github.com (github.com)... 140.82.114.3\n",
            "Connecting to github.com (github.com)|140.82.114.3|:443... connected.\n",
            "HTTP request sent, awaiting response... 302 Found\n",
            "Location: https://raw.githubusercontent.com/HusainSyauqi/Dataset/main/Lidah%20Buaya.zip [following]\n",
            "--2021-12-31 13:00:57--  https://raw.githubusercontent.com/HusainSyauqi/Dataset/main/Lidah%20Buaya.zip\n",
            "Resolving raw.githubusercontent.com (raw.githubusercontent.com)... 185.199.108.133, 185.199.109.133, 185.199.110.133, ...\n",
            "Connecting to raw.githubusercontent.com (raw.githubusercontent.com)|185.199.108.133|:443... connected.\n",
            "HTTP request sent, awaiting response... 200 OK\n",
            "Length: 18152040 (17M) [application/zip]\n",
            "Saving to: ‘/tmp/Lidah_Buaya.zip’\n",
            "\n",
            "/tmp/Lidah_Buaya.zi 100%[===================>]  17.31M  --.-KB/s    in 0.07s   \n",
            "\n",
            "2021-12-31 13:00:57 (258 MB/s) - ‘/tmp/Lidah_Buaya.zip’ saved [18152040/18152040]\n",
            "\n",
            "--2021-12-31 13:00:57--  https://github.com/HusainSyauqi/Dataset/raw/main/Seledri.zip\n",
            "Resolving github.com (github.com)... 140.82.114.3\n",
            "Connecting to github.com (github.com)|140.82.114.3|:443... connected.\n",
            "HTTP request sent, awaiting response... 302 Found\n",
            "Location: https://raw.githubusercontent.com/HusainSyauqi/Dataset/main/Seledri.zip [following]\n",
            "--2021-12-31 13:00:57--  https://raw.githubusercontent.com/HusainSyauqi/Dataset/main/Seledri.zip\n",
            "Resolving raw.githubusercontent.com (raw.githubusercontent.com)... 185.199.108.133, 185.199.109.133, 185.199.110.133, ...\n",
            "Connecting to raw.githubusercontent.com (raw.githubusercontent.com)|185.199.108.133|:443... connected.\n",
            "HTTP request sent, awaiting response... 200 OK\n",
            "Length: 9706500 (9.3M) [application/zip]\n",
            "Saving to: ‘/tmp/Seledri.zip’\n",
            "\n",
            "/tmp/Seledri.zip    100%[===================>]   9.26M  --.-KB/s    in 0.03s   \n",
            "\n",
            "2021-12-31 13:00:57 (278 MB/s) - ‘/tmp/Seledri.zip’ saved [9706500/9706500]\n",
            "\n"
          ]
        }
      ]
    },
    {
      "cell_type": "markdown",
      "source": [
        "### #004 - Move Dataset from tmp to Gdrive directory"
      ],
      "metadata": {
        "id": "vOSpND1ENE9v"
      }
    },
    {
      "cell_type": "code",
      "source": [
        "# Memindah dataset ke Gdrive dan membuat folder baru di folder Colab Notebooks\n",
        "# Dataset daun jeruk\n",
        "!mv \"/tmp/Daun_Jeruk.zip\" \"/content/gdrive/MyDrive/Colab Notebooks/DH_CNN/Dataset Original/Daun_Jeruk.zip\" \n",
        "\n",
        "# Dataset daun sirih\n",
        "!mv \"/tmp/Daun_Sirih.zip\" \"/content/gdrive/MyDrive/Colab Notebooks/DH_CNN/Dataset Original/Daun_Sirih.zip\"\n",
        "\n",
        "# Dataset daun sirih\n",
        "!mv \"/tmp/Belimbing_wuluh.zip\" \"/content/gdrive/MyDrive/Colab Notebooks/DH_CNN/Dataset Original/Belimbing_wuluh.zip\"\n",
        "\n",
        "# Dataset daun sirih\n",
        "!mv \"/tmp/Lidah_Buaya.zip\" \"/content/gdrive/MyDrive/Colab Notebooks/DH_CNN/Dataset Original/Lidah_Buaya.zip\"\n",
        "\n",
        "# Dataset daun sirih\n",
        "!mv \"/tmp/Pepaya.zip\" \"/content/gdrive/MyDrive/Colab Notebooks/DH_CNN/Dataset Original/Pepaya.zip\"\n",
        "\n",
        "# Dataset daun sirih\n",
        "!mv \"/tmp/Seledri.zip\" \"/content/gdrive/MyDrive/Colab Notebooks/DH_CNN/Dataset Original/Seledri.zip\"\n",
        "\n",
        "# Dataset daun sirih\n",
        "!mv \"/tmp/Jambu_Biji.zip\" \"/content/gdrive/MyDrive/Colab Notebooks/DH_CNN/Dataset Original/Jambu_Biji.zip\""
      ],
      "metadata": {
        "id": "EJzrrfpvNF-2"
      },
      "execution_count": 12,
      "outputs": []
    },
    {
      "cell_type": "markdown",
      "source": [
        "# 02. Preprocessing"
      ],
      "metadata": {
        "id": "R5zjILl7OZ4E"
      }
    },
    {
      "cell_type": "markdown",
      "source": [
        "### #001 - Masuk folder Dataset"
      ],
      "metadata": {
        "id": "GqLarNtkOa5D"
      }
    },
    {
      "cell_type": "code",
      "source": [
        "# Mengarahkan terminal environment ke folder dataset berada\n",
        "%cd \"/content/gdrive/MyDrive/Colab Notebooks/DH_CNN/Dataset Original\""
      ],
      "metadata": {
        "colab": {
          "base_uri": "https://localhost:8080/"
        },
        "id": "IMv9O8k-OeL7",
        "outputId": "ebfd4d7c-3b32-4c9c-f0d2-60433c327b26"
      },
      "execution_count": 13,
      "outputs": [
        {
          "output_type": "stream",
          "name": "stdout",
          "text": [
            "/content/gdrive/MyDrive/Colab Notebooks/DH_CNN/Dataset Original\n"
          ]
        }
      ]
    },
    {
      "cell_type": "markdown",
      "source": [
        "### #002 - Mengecek isi Folder"
      ],
      "metadata": {
        "id": "uFgxPq-9OprD"
      }
    },
    {
      "cell_type": "code",
      "source": [
        "# Mengecek isi dari folder directory saat ini\n",
        "!ls"
      ],
      "metadata": {
        "colab": {
          "base_uri": "https://localhost:8080/"
        },
        "id": "vA26ieXeOu6j",
        "outputId": "2959383b-e65b-43dc-aae5-7f2bf271695d"
      },
      "execution_count": 14,
      "outputs": [
        {
          "output_type": "stream",
          "name": "stdout",
          "text": [
            "Belimbing_wuluh.zip  Daun_Sirih.zip  Lidah_Buaya.zip  Seledri.zip\n",
            "Daun_Jeruk.zip\t     Jambu_Biji.zip  Pepaya.zip\n"
          ]
        }
      ]
    },
    {
      "cell_type": "markdown",
      "source": [
        "### #003 - Unzip File Dataset"
      ],
      "metadata": {
        "id": "M3RxlX6ZOycr"
      }
    },
    {
      "cell_type": "code",
      "source": [
        "# Unzip file dan hapus zip file\n",
        "!unzip \\*.zip && rm *.zip"
      ],
      "metadata": {
        "colab": {
          "base_uri": "https://localhost:8080/"
        },
        "id": "8mg4LWy-O3MC",
        "outputId": "7bc5cc04-308e-4ad9-bfcd-eeee2cea21dc"
      },
      "execution_count": 15,
      "outputs": [
        {
          "output_type": "stream",
          "name": "stdout",
          "text": [
            "Archive:  Daun_Jeruk.zip\n",
            "  inflating: Daun Jeruk/001.jpg      \n",
            "  inflating: Daun Jeruk/002.jpg      \n",
            "  inflating: Daun Jeruk/003.jpg      \n",
            "  inflating: Daun Jeruk/004.jpg      \n",
            "  inflating: Daun Jeruk/005.jpg      \n",
            "  inflating: Daun Jeruk/006.jpg      \n",
            "  inflating: Daun Jeruk/007.jpg      \n",
            "  inflating: Daun Jeruk/008.jpg      \n",
            "  inflating: Daun Jeruk/009.jpg      \n",
            "  inflating: Daun Jeruk/010.jpg      \n",
            "  inflating: Daun Jeruk/011.jpg      \n",
            "  inflating: Daun Jeruk/012.jpg      \n",
            "  inflating: Daun Jeruk/013.jpg      \n",
            "  inflating: Daun Jeruk/014.jpg      \n",
            "  inflating: Daun Jeruk/015.jpg      \n",
            "  inflating: Daun Jeruk/016.jpg      \n",
            "  inflating: Daun Jeruk/017.jpg      \n",
            "  inflating: Daun Jeruk/018.jpg      \n",
            "  inflating: Daun Jeruk/019.jpg      \n",
            "  inflating: Daun Jeruk/020.jpg      \n",
            "  inflating: Daun Jeruk/021.jpg      \n",
            "  inflating: Daun Jeruk/022.jpg      \n",
            "  inflating: Daun Jeruk/023.jpg      \n",
            "  inflating: Daun Jeruk/024.jpg      \n",
            "  inflating: Daun Jeruk/025.jpg      \n",
            "  inflating: Daun Jeruk/026.jpg      \n",
            "  inflating: Daun Jeruk/027.jpg      \n",
            "  inflating: Daun Jeruk/028.jpg      \n",
            "  inflating: Daun Jeruk/029.jpg      \n",
            "  inflating: Daun Jeruk/030.jpg      \n",
            "  inflating: Daun Jeruk/031.jpg      \n",
            "  inflating: Daun Jeruk/032.jpg      \n",
            "  inflating: Daun Jeruk/033.jpg      \n",
            "  inflating: Daun Jeruk/034.jpg      \n",
            "  inflating: Daun Jeruk/035.jpg      \n",
            "  inflating: Daun Jeruk/036.jpg      \n",
            "  inflating: Daun Jeruk/037.jpg      \n",
            "  inflating: Daun Jeruk/038.jpg      \n",
            "  inflating: Daun Jeruk/039.jpg      \n",
            "  inflating: Daun Jeruk/040.jpg      \n",
            "  inflating: Daun Jeruk/041.jpg      \n",
            "  inflating: Daun Jeruk/042.jpg      \n",
            "  inflating: Daun Jeruk/043.jpg      \n",
            "  inflating: Daun Jeruk/044.jpg      \n",
            "  inflating: Daun Jeruk/045.jpg      \n",
            "  inflating: Daun Jeruk/046.jpg      \n",
            "  inflating: Daun Jeruk/047.jpg      \n",
            "  inflating: Daun Jeruk/048.jpg      \n",
            "  inflating: Daun Jeruk/049.jpg      \n",
            "  inflating: Daun Jeruk/050.jpg      \n",
            "\n",
            "Archive:  Daun_Sirih.zip\n",
            "  inflating: Daun Sirih/001.jpg      \n",
            "  inflating: Daun Sirih/002.jpg      \n",
            "  inflating: Daun Sirih/003.jpg      \n",
            "  inflating: Daun Sirih/004.jpg      \n",
            "  inflating: Daun Sirih/005.jpg      \n",
            "  inflating: Daun Sirih/006.jpg      \n",
            "  inflating: Daun Sirih/007.jpg      \n",
            "  inflating: Daun Sirih/008.jpg      \n",
            "  inflating: Daun Sirih/009.jpg      \n",
            "  inflating: Daun Sirih/010.jpg      \n",
            "  inflating: Daun Sirih/011.jpg      \n",
            "  inflating: Daun Sirih/012.jpg      \n",
            "  inflating: Daun Sirih/013.jpg      \n",
            "  inflating: Daun Sirih/014.jpg      \n",
            "  inflating: Daun Sirih/015.jpg      \n",
            "  inflating: Daun Sirih/016.jpg      \n",
            "  inflating: Daun Sirih/017.jpg      \n",
            "  inflating: Daun Sirih/018.jpg      \n",
            "  inflating: Daun Sirih/019.jpg      \n",
            "  inflating: Daun Sirih/020.jpg      \n",
            "  inflating: Daun Sirih/021.jpg      \n",
            "  inflating: Daun Sirih/022.jpg      \n",
            "  inflating: Daun Sirih/023.jpg      \n",
            "  inflating: Daun Sirih/024.jpg      \n",
            "  inflating: Daun Sirih/025.jpg      \n",
            "  inflating: Daun Sirih/026.jpg      \n",
            "  inflating: Daun Sirih/027.jpg      \n",
            "  inflating: Daun Sirih/028.jpg      \n",
            "  inflating: Daun Sirih/029.jpg      \n",
            "  inflating: Daun Sirih/030.jpg      \n",
            "  inflating: Daun Sirih/031.jpg      \n",
            "  inflating: Daun Sirih/032.jpg      \n",
            "  inflating: Daun Sirih/033.jpg      \n",
            "  inflating: Daun Sirih/034.jpg      \n",
            "  inflating: Daun Sirih/035.jpg      \n",
            "  inflating: Daun Sirih/036.jpg      \n",
            "  inflating: Daun Sirih/037.jpg      \n",
            "  inflating: Daun Sirih/038.jpg      \n",
            "  inflating: Daun Sirih/039.jpg      \n",
            "  inflating: Daun Sirih/040.jpg      \n",
            "  inflating: Daun Sirih/041.jpg      \n",
            "  inflating: Daun Sirih/042.jpg      \n",
            "  inflating: Daun Sirih/043.jpg      \n",
            "  inflating: Daun Sirih/044.jpg      \n",
            "  inflating: Daun Sirih/045.jpg      \n",
            "  inflating: Daun Sirih/046.jpg      \n",
            "  inflating: Daun Sirih/047.jpg      \n",
            "  inflating: Daun Sirih/048.jpg      \n",
            "  inflating: Daun Sirih/049.jpg      \n",
            "  inflating: Daun Sirih/050.jpg      \n",
            "\n",
            "Archive:  Belimbing_wuluh.zip\n",
            "  inflating: Belimbing wuluh/Belimbing Wuluh1.jpg  \n",
            "  inflating: Belimbing wuluh/Belimbing Wuluh101.jpg  \n",
            "  inflating: Belimbing wuluh/Belimbing Wuluh103.jpg  \n",
            "  inflating: Belimbing wuluh/Belimbing Wuluh114.jpg  \n",
            "  inflating: Belimbing wuluh/Belimbing Wuluh117.jpg  \n",
            "  inflating: Belimbing wuluh/Belimbing Wuluh122.jpg  \n",
            "  inflating: Belimbing wuluh/Belimbing Wuluh123.jpg  \n",
            "  inflating: Belimbing wuluh/Belimbing Wuluh128.jpg  \n",
            "  inflating: Belimbing wuluh/Belimbing Wuluh134.jpg  \n",
            "  inflating: Belimbing wuluh/Belimbing Wuluh14.jpg  \n",
            "  inflating: Belimbing wuluh/Belimbing Wuluh142.jpg  \n",
            "  inflating: Belimbing wuluh/Belimbing Wuluh147.jpg  \n",
            "  inflating: Belimbing wuluh/Belimbing Wuluh148.jpg  \n",
            "  inflating: Belimbing wuluh/Belimbing Wuluh151.jpg  \n",
            "  inflating: Belimbing wuluh/Belimbing Wuluh154.jpg  \n",
            "  inflating: Belimbing wuluh/Belimbing Wuluh156.jpg  \n",
            "  inflating: Belimbing wuluh/Belimbing Wuluh157.jpg  \n",
            "  inflating: Belimbing wuluh/Belimbing Wuluh167.jpg  \n",
            "  inflating: Belimbing wuluh/Belimbing Wuluh177.jpg  \n",
            "  inflating: Belimbing wuluh/Belimbing Wuluh179.jpg  \n",
            "  inflating: Belimbing wuluh/Belimbing Wuluh2.jpg  \n",
            "  inflating: Belimbing wuluh/Belimbing Wuluh24.jpg  \n",
            "  inflating: Belimbing wuluh/Belimbing Wuluh26.jpg  \n",
            "  inflating: Belimbing wuluh/Belimbing Wuluh32.jpg  \n",
            "  inflating: Belimbing wuluh/Belimbing Wuluh33.jpg  \n",
            "  inflating: Belimbing wuluh/Belimbing Wuluh36.jpg  \n",
            "  inflating: Belimbing wuluh/Belimbing Wuluh37.jpg  \n",
            "  inflating: Belimbing wuluh/Belimbing Wuluh42.jpg  \n",
            "  inflating: Belimbing wuluh/Belimbing Wuluh43.jpg  \n",
            "  inflating: Belimbing wuluh/Belimbing Wuluh49.jpg  \n",
            "  inflating: Belimbing wuluh/Belimbing Wuluh5.jpg  \n",
            "  inflating: Belimbing wuluh/Belimbing Wuluh53.jpg  \n",
            "  inflating: Belimbing wuluh/Belimbing Wuluh54.jpg  \n",
            "  inflating: Belimbing wuluh/Belimbing Wuluh55.jpg  \n",
            "  inflating: Belimbing wuluh/Belimbing Wuluh58.jpg  \n",
            "  inflating: Belimbing wuluh/Belimbing Wuluh59.jpg  \n",
            "  inflating: Belimbing wuluh/Belimbing Wuluh60.jpg  \n",
            "  inflating: Belimbing wuluh/Belimbing Wuluh61.jpg  \n",
            "  inflating: Belimbing wuluh/Belimbing Wuluh65.jpg  \n",
            "  inflating: Belimbing wuluh/Belimbing Wuluh68.jpg  \n",
            "  inflating: Belimbing wuluh/Belimbing Wuluh69.jpg  \n",
            "  inflating: Belimbing wuluh/Belimbing Wuluh70.jpg  \n",
            "  inflating: Belimbing wuluh/Belimbing Wuluh74.jpg  \n",
            "  inflating: Belimbing wuluh/Belimbing Wuluh76.jpg  \n",
            "  inflating: Belimbing wuluh/Belimbing Wuluh8.jpg  \n",
            "  inflating: Belimbing wuluh/Belimbing Wuluh83.jpg  \n",
            "  inflating: Belimbing wuluh/Belimbing Wuluh85.jpg  \n",
            "  inflating: Belimbing wuluh/Belimbing Wuluh86.jpg  \n",
            "  inflating: Belimbing wuluh/Belimbing Wuluh89.jpg  \n",
            "  inflating: Belimbing wuluh/Belimbing Wuluh97.jpg  \n",
            "\n",
            "Archive:  Lidah_Buaya.zip\n",
            "  inflating: Lidah Buaya/Lidah buaya10.jpg  \n",
            "  inflating: Lidah Buaya/Lidah buaya11.jpg  \n",
            "  inflating: Lidah Buaya/Lidah buaya12.jpg  \n",
            "  inflating: Lidah Buaya/Lidah buaya13.jpg  \n",
            "  inflating: Lidah Buaya/Lidah buaya15.jpg  \n",
            "  inflating: Lidah Buaya/Lidah buaya16.jpg  \n",
            "  inflating: Lidah Buaya/Lidah buaya17.jpg  \n",
            "  inflating: Lidah Buaya/Lidah buaya18.jpg  \n",
            "  inflating: Lidah Buaya/Lidah buaya19.jpg  \n",
            "  inflating: Lidah Buaya/Lidah buaya20.jpg  \n",
            "  inflating: Lidah Buaya/Lidah buaya21.jpg  \n",
            "  inflating: Lidah Buaya/Lidah buaya22.jpg  \n",
            "  inflating: Lidah Buaya/Lidah buaya23.jpg  \n",
            "  inflating: Lidah Buaya/Lidah buaya25.jpg  \n",
            "  inflating: Lidah Buaya/Lidah buaya27.jpg  \n",
            "  inflating: Lidah Buaya/Lidah buaya28.jpg  \n",
            "  inflating: Lidah Buaya/Lidah buaya29.jpg  \n",
            "  inflating: Lidah Buaya/Lidah buaya3.jpg  \n",
            "  inflating: Lidah Buaya/Lidah buaya30.jpg  \n",
            "  inflating: Lidah Buaya/Lidah buaya31.jpg  \n",
            "  inflating: Lidah Buaya/Lidah buaya34.jpg  \n",
            "  inflating: Lidah Buaya/Lidah buaya35.jpg  \n",
            "  inflating: Lidah Buaya/Lidah buaya38.jpg  \n",
            "  inflating: Lidah Buaya/Lidah buaya39.jpg  \n",
            "  inflating: Lidah Buaya/Lidah buaya4.jpg  \n",
            "  inflating: Lidah Buaya/Lidah buaya40.jpg  \n",
            "  inflating: Lidah Buaya/Lidah buaya41.jpg  \n",
            "  inflating: Lidah Buaya/Lidah buaya44.jpg  \n",
            "  inflating: Lidah Buaya/Lidah buaya45.jpg  \n",
            "  inflating: Lidah Buaya/Lidah buaya46.jpg  \n",
            "  inflating: Lidah Buaya/Lidah buaya47.jpg  \n",
            "  inflating: Lidah Buaya/Lidah buaya48.jpg  \n",
            "  inflating: Lidah Buaya/Lidah buaya50.jpg  \n",
            "  inflating: Lidah Buaya/Lidah buaya51.jpg  \n",
            "  inflating: Lidah Buaya/Lidah buaya52.jpg  \n",
            "  inflating: Lidah Buaya/Lidah buaya56.jpg  \n",
            "  inflating: Lidah Buaya/Lidah buaya57.jpg  \n",
            "  inflating: Lidah Buaya/Lidah buaya6.jpg  \n",
            "  inflating: Lidah Buaya/Lidah buaya62.jpg  \n",
            "  inflating: Lidah Buaya/Lidah buaya63.jpg  \n",
            "  inflating: Lidah Buaya/Lidah buaya64.jpg  \n",
            "  inflating: Lidah Buaya/Lidah buaya66.jpg  \n",
            "  inflating: Lidah Buaya/Lidah buaya67.jpg  \n",
            "  inflating: Lidah Buaya/Lidah buaya7.jpg  \n",
            "  inflating: Lidah Buaya/Lidah buaya71.jpg  \n",
            "  inflating: Lidah Buaya/Lidah buaya72.jpg  \n",
            "  inflating: Lidah Buaya/Lidah buaya73.jpg  \n",
            "  inflating: Lidah Buaya/Lidah buaya75.jpg  \n",
            "  inflating: Lidah Buaya/Lidah buaya77.jpg  \n",
            "  inflating: Lidah Buaya/Lidah buaya9.jpg  \n",
            "\n",
            "Archive:  Pepaya.zip\n",
            "  inflating: Pepaya/Pepaya10.jpg     \n",
            "  inflating: Pepaya/Pepaya11.jpg     \n",
            "  inflating: Pepaya/Pepaya12.jpg     \n",
            "  inflating: Pepaya/Pepaya13.jpg     \n",
            "  inflating: Pepaya/Pepaya15.jpg     \n",
            "  inflating: Pepaya/Pepaya16.jpg     \n",
            "  inflating: Pepaya/Pepaya17.jpg     \n",
            "  inflating: Pepaya/Pepaya18.jpg     \n",
            "  inflating: Pepaya/Pepaya19.jpg     \n",
            "  inflating: Pepaya/Pepaya20.jpg     \n",
            "  inflating: Pepaya/Pepaya21.jpg     \n",
            "  inflating: Pepaya/Pepaya22.jpg     \n",
            "  inflating: Pepaya/Pepaya23.jpg     \n",
            "  inflating: Pepaya/Pepaya25.jpg     \n",
            "  inflating: Pepaya/Pepaya27.jpg     \n",
            "  inflating: Pepaya/Pepaya28.jpg     \n",
            "  inflating: Pepaya/Pepaya29.jpg     \n",
            "  inflating: Pepaya/Pepaya30.jpg     \n",
            "  inflating: Pepaya/Pepaya31.jpg     \n",
            "  inflating: Pepaya/Pepaya34.jpg     \n",
            "  inflating: Pepaya/Pepaya35.jpg     \n",
            "  inflating: Pepaya/Pepaya38.jpg     \n",
            "  inflating: Pepaya/Pepaya39.jpg     \n",
            "  inflating: Pepaya/Pepaya4.jpg      \n",
            "  inflating: Pepaya/Pepaya40.jpg     \n",
            "  inflating: Pepaya/Pepaya41.jpg     \n",
            "  inflating: Pepaya/Pepaya44.jpg     \n",
            "  inflating: Pepaya/Pepaya45.jpg     \n",
            "  inflating: Pepaya/Pepaya46.jpg     \n",
            "  inflating: Pepaya/Pepaya47.jpg     \n",
            "  inflating: Pepaya/Pepaya48.jpg     \n",
            "  inflating: Pepaya/Pepaya50.jpg     \n",
            "  inflating: Pepaya/Pepaya51.jpg     \n",
            "  inflating: Pepaya/Pepaya52.jpg     \n",
            "  inflating: Pepaya/Pepaya56.jpg     \n",
            "  inflating: Pepaya/Pepaya57.jpg     \n",
            "  inflating: Pepaya/Pepaya6.jpg      \n",
            "  inflating: Pepaya/Pepaya62.jpg     \n",
            "  inflating: Pepaya/Pepaya63.jpg     \n",
            "  inflating: Pepaya/Pepaya64.jpg     \n",
            "  inflating: Pepaya/Pepaya66.jpg     \n",
            "  inflating: Pepaya/Pepaya67.jpg     \n",
            "  inflating: Pepaya/Pepaya7.jpg      \n",
            "  inflating: Pepaya/Pepaya71.jpg     \n",
            "  inflating: Pepaya/Pepaya72.jpg     \n",
            "  inflating: Pepaya/Pepaya73.jpg     \n",
            "  inflating: Pepaya/Pepaya75.jpg     \n",
            "  inflating: Pepaya/Pepaya77.jpg     \n",
            "  inflating: Pepaya/Pepaya9.jpg      \n",
            "\n",
            "Archive:  Seledri.zip\n",
            "  inflating: Seledri/Seledri1.jpg    \n",
            "  inflating: Seledri/Seledri101.jpg  \n",
            "  inflating: Seledri/Seledri103.jpg  \n",
            "  inflating: Seledri/Seledri114.jpg  \n",
            "  inflating: Seledri/Seledri117.jpg  \n",
            "  inflating: Seledri/Seledri122.jpg  \n",
            "  inflating: Seledri/Seledri123.jpg  \n",
            "  inflating: Seledri/Seledri128.jpg  \n",
            "  inflating: Seledri/Seledri134.jpg  \n",
            "  inflating: Seledri/Seledri14.jpg   \n",
            "  inflating: Seledri/Seledri142.jpg  \n",
            "  inflating: Seledri/Seledri147.jpg  \n",
            "  inflating: Seledri/Seledri148.jpg  \n",
            "  inflating: Seledri/Seledri151.jpg  \n",
            "  inflating: Seledri/Seledri154.jpg  \n",
            "  inflating: Seledri/Seledri156.jpg  \n",
            "  inflating: Seledri/Seledri157.jpg  \n",
            "  inflating: Seledri/Seledri167.jpg  \n",
            "  inflating: Seledri/Seledri177.jpg  \n",
            "  inflating: Seledri/Seledri179.jpg  \n",
            "  inflating: Seledri/Seledri2.jpg    \n",
            "  inflating: Seledri/Seledri24.jpg   \n",
            "  inflating: Seledri/Seledri26.jpg   \n",
            "  inflating: Seledri/Seledri32.jpg   \n",
            "  inflating: Seledri/Seledri33.jpg   \n",
            "  inflating: Seledri/Seledri36.jpg   \n",
            "  inflating: Seledri/Seledri37.jpg   \n",
            "  inflating: Seledri/Seledri42.jpg   \n",
            "  inflating: Seledri/Seledri43.jpg   \n",
            "  inflating: Seledri/Seledri49.jpg   \n",
            "  inflating: Seledri/Seledri5.jpg    \n",
            "  inflating: Seledri/Seledri53.jpg   \n",
            "  inflating: Seledri/Seledri54.jpg   \n",
            "  inflating: Seledri/Seledri55.jpg   \n",
            "  inflating: Seledri/Seledri58.jpg   \n",
            "  inflating: Seledri/Seledri59.jpg   \n",
            "  inflating: Seledri/Seledri60.jpg   \n",
            "  inflating: Seledri/Seledri61.jpg   \n",
            "  inflating: Seledri/Seledri65.jpg   \n",
            "  inflating: Seledri/Seledri68.jpg   \n",
            "  inflating: Seledri/Seledri69.jpg   \n",
            "  inflating: Seledri/Seledri70.jpg   \n",
            "  inflating: Seledri/Seledri74.jpg   \n",
            "  inflating: Seledri/Seledri76.jpg   \n",
            "  inflating: Seledri/Seledri8.jpg    \n",
            "  inflating: Seledri/Seledri83.jpg   \n",
            "  inflating: Seledri/Seledri85.jpg   \n",
            "  inflating: Seledri/Seledri86.jpg   \n",
            "  inflating: Seledri/Seledri89.jpg   \n",
            "  inflating: Seledri/Seledri97.jpg   \n",
            "\n",
            "Archive:  Jambu_Biji.zip\n",
            "  inflating: Jambu Biji/Jambu biji10.jpg  \n",
            "  inflating: Jambu Biji/Jambu biji11.jpg  \n",
            "  inflating: Jambu Biji/Jambu biji12.jpg  \n",
            "  inflating: Jambu Biji/Jambu biji13.jpg  \n",
            "  inflating: Jambu Biji/Jambu biji15.jpg  \n",
            "  inflating: Jambu Biji/Jambu biji16.jpg  \n",
            "  inflating: Jambu Biji/Jambu biji17.jpg  \n",
            "  inflating: Jambu Biji/Jambu biji18.jpg  \n",
            "  inflating: Jambu Biji/Jambu biji19.jpg  \n",
            "  inflating: Jambu Biji/Jambu biji20.jpg  \n",
            "  inflating: Jambu Biji/Jambu biji21.jpg  \n",
            "  inflating: Jambu Biji/Jambu biji22.jpg  \n",
            "  inflating: Jambu Biji/Jambu biji23.jpg  \n",
            "  inflating: Jambu Biji/Jambu biji25.jpg  \n",
            "  inflating: Jambu Biji/Jambu biji27.jpg  \n",
            "  inflating: Jambu Biji/Jambu biji28.jpg  \n",
            "  inflating: Jambu Biji/Jambu biji29.jpg  \n",
            "  inflating: Jambu Biji/Jambu biji3.jpg  \n",
            "  inflating: Jambu Biji/Jambu biji30.jpg  \n",
            "  inflating: Jambu Biji/Jambu biji31.jpg  \n",
            "  inflating: Jambu Biji/Jambu biji34.jpg  \n",
            "  inflating: Jambu Biji/Jambu biji35.jpg  \n",
            "  inflating: Jambu Biji/Jambu biji38.jpg  \n",
            "  inflating: Jambu Biji/Jambu biji39.jpg  \n",
            "  inflating: Jambu Biji/Jambu biji4.jpg  \n",
            "  inflating: Jambu Biji/Jambu biji40.jpg  \n",
            "  inflating: Jambu Biji/Jambu biji41.jpg  \n",
            "  inflating: Jambu Biji/Jambu biji44.jpg  \n",
            "  inflating: Jambu Biji/Jambu biji45.jpg  \n",
            "  inflating: Jambu Biji/Jambu biji46.jpg  \n",
            "  inflating: Jambu Biji/Jambu biji47.jpg  \n",
            "  inflating: Jambu Biji/Jambu biji48.jpg  \n",
            "  inflating: Jambu Biji/Jambu biji50.jpg  \n",
            "  inflating: Jambu Biji/Jambu biji51.jpg  \n",
            "  inflating: Jambu Biji/Jambu biji52.jpg  \n",
            "  inflating: Jambu Biji/Jambu biji56.jpg  \n",
            "  inflating: Jambu Biji/Jambu biji57.jpg  \n",
            "  inflating: Jambu Biji/Jambu biji6.jpg  \n",
            "  inflating: Jambu Biji/Jambu biji62.jpg  \n",
            "  inflating: Jambu Biji/Jambu biji63.jpg  \n",
            "  inflating: Jambu Biji/Jambu biji64.jpg  \n",
            "  inflating: Jambu Biji/Jambu biji66.jpg  \n",
            "  inflating: Jambu Biji/Jambu biji67.jpg  \n",
            "  inflating: Jambu Biji/Jambu biji7.jpg  \n",
            "  inflating: Jambu Biji/Jambu biji71.jpg  \n",
            "  inflating: Jambu Biji/Jambu biji72.jpg  \n",
            "  inflating: Jambu Biji/Jambu biji73.jpg  \n",
            "  inflating: Jambu Biji/Jambu biji75.jpg  \n",
            "  inflating: Jambu Biji/Jambu biji77.jpg  \n",
            "  inflating: Jambu Biji/Jambu biji9.jpg  \n",
            "\n",
            "7 archives were successfully processed.\n"
          ]
        }
      ]
    },
    {
      "cell_type": "markdown",
      "source": [
        "# 03. Analyze Dataset"
      ],
      "metadata": {
        "id": "79TbxMIwO5Il"
      }
    },
    {
      "cell_type": "markdown",
      "source": [
        "### #001 - Installing Split Folder"
      ],
      "metadata": {
        "id": "XSiDKbTIPVZb"
      }
    },
    {
      "cell_type": "code",
      "source": [
        "# Split Folder : Untuk Split Dataset pada Testing dan Training/Validation\n",
        "!pip install split_folders\n",
        "import splitfolders"
      ],
      "metadata": {
        "id": "qvokse5ePY7Y",
        "colab": {
          "base_uri": "https://localhost:8080/"
        },
        "outputId": "8012bb5f-eddd-4eed-f07d-4e8fc325b0f2"
      },
      "execution_count": 16,
      "outputs": [
        {
          "output_type": "stream",
          "name": "stdout",
          "text": [
            "Collecting split_folders\n",
            "  Downloading split_folders-0.4.3-py3-none-any.whl (7.4 kB)\n",
            "Installing collected packages: split-folders\n",
            "Successfully installed split-folders-0.4.3\n"
          ]
        }
      ]
    },
    {
      "cell_type": "markdown",
      "source": [
        "### #002 - Membagi Dataset (90% training dan 10% validation)"
      ],
      "metadata": {
        "id": "0qi4365HPbnb"
      }
    },
    {
      "cell_type": "code",
      "source": [
        "from splitfolders.split import ratio\n",
        "# Dataset daun nangka\n",
        "input_folder = \"/content/gdrive/MyDrive/Colab Notebooks/DH_CNN/Dataset Original\"\n",
        "output_folder = \"/content/gdrive/MyDrive/Colab Notebooks/DH_CNN/Analyze Dataset/Splitted\"\n",
        "splitfolders.ratio(input_folder, output = output_folder, seed = 1337, ratio=(.9, .1)) \n",
        "# .9 -> 90% Training, .1-> 10% Validation.\n",
        "# Data training : data yang digunakan untuk melatih model.\n",
        "# Data validasi : digunakan untuk validasi epoch terakhir (untuk mengevaluasi model)."
      ],
      "metadata": {
        "id": "e6LbDbt_Pemw",
        "colab": {
          "base_uri": "https://localhost:8080/"
        },
        "outputId": "0498b1f7-5e57-4c57-b8fa-1afa88fcf609"
      },
      "execution_count": 17,
      "outputs": [
        {
          "output_type": "stream",
          "name": "stderr",
          "text": [
            "Copying files: 349 files [00:07, 46.42 files/s]\n"
          ]
        }
      ]
    },
    {
      "cell_type": "markdown",
      "source": [
        "### #003 - Pengecekan jumlah dataset (data training dan data validasi)"
      ],
      "metadata": {
        "id": "u_nX_52yPmJa"
      }
    },
    {
      "cell_type": "code",
      "source": [
        "import os\n",
        "\n",
        "train_dir = \"/content/gdrive/MyDrive/Colab Notebooks/DH_CNN/Analyze Dataset/Splitted/train\"\n",
        "val_dir = \"/content/gdrive/MyDrive/Colab Notebooks/DH_CNN/Analyze Dataset/Splitted/val\"\n",
        "\n",
        "jeruk_train_path = train_dir + \"/Daun Jeruk\"\n",
        "sirih_train_path = train_dir + \"/Daun Sirih\"\n",
        "belimbing_train_path = train_dir + \"/Belimbing wuluh\"\n",
        "pepaya_train_path = train_dir + \"/Pepaya\"\n",
        "lidah_train_path = train_dir + \"/Lidah Buaya\"\n",
        "jambu_train_path = train_dir + \"/Jambu Biji\"\n",
        "seledri_train_path = train_dir + \"/Seledri\"\n",
        "jeruk_val_path = val_dir + \"/Daun Jeruk\"\n",
        "sirih_val_path = val_dir + \"/Daun Sirih\"\n",
        "belimbing_val_path = val_dir + \"/Belimbing wuluh\"\n",
        "pepaya_val_path = val_dir + \"/Pepaya\"\n",
        "lidah_val_path = val_dir + \"/Lidah Buaya\"\n",
        "jambu_val_path = val_dir + \"/Jambu Biji\"\n",
        "seledri_val_path = val_dir + \"/Seledri\"\n",
        "\n",
        "jeruk_len_train = len(os.listdir(jeruk_train_path))\n",
        "sirih_len_train = len(os.listdir(sirih_train_path))\n",
        "belimbing_len_train = len(os.listdir(belimbing_train_path))\n",
        "pepaya_len_train = len(os.listdir(pepaya_train_path))\n",
        "lidah_len_train = len(os.listdir(lidah_train_path))\n",
        "jambu_len_train = len(os.listdir(jambu_train_path))\n",
        "seledri_len_train = len(os.listdir(seledri_train_path))\n",
        "jeruk_len_val = len(os.listdir(jeruk_val_path))\n",
        "sirih_len_val = len(os.listdir(sirih_val_path))\n",
        "belimbing_len_val = len(os.listdir(belimbing_val_path))\n",
        "pepaya_len_val = len(os.listdir(pepaya_val_path))\n",
        "lidah_len_val = len(os.listdir(lidah_val_path))\n",
        "jambu_len_val = len(os.listdir(jambu_val_path))\n",
        "seledri_len_val = len(os.listdir(seledri_val_path))\n",
        "\n",
        "print(\"Jumlah dataset training : \", jeruk_len_train + sirih_len_train + belimbing_len_train + pepaya_len_train + lidah_len_train + jambu_len_train + seledri_len_train)\n",
        "print(\"Jumlah dataset validasi : \", jeruk_len_val + sirih_len_val + belimbing_len_val + pepaya_len_val + lidah_len_val + jambu_len_val + seledri_len_val)\n",
        "print()\n",
        "print(\"Jumlah train kelas daun jeruk : \", jeruk_len_train)\n",
        "print(\"Jumlah train kelas daun sirih : \", sirih_len_train)\n",
        "print(\"Jumlah train kelas daun belimbing wuluh : \", belimbing_len_train)\n",
        "print(\"Jumlah train kelas daun pepaya : \", pepaya_len_train)\n",
        "print(\"Jumlah train kelas daun lidah buaya : \", lidah_len_train)\n",
        "print(\"Jumlah train kelas daun jambu biji : \", jambu_len_train)\n",
        "print(\"Jumlah train kelas daun seledri : \", seledri_len_train)\n",
        "print()\n",
        "print(\"Jumlah validasi kelas daun jeruk : \", jeruk_len_val)\n",
        "print(\"Jumlah validasi kelas daun sirih : \", sirih_len_val)\n",
        "print(\"Jumlah validasi kelas daun belimbing wuluh : \", belimbing_len_val)\n",
        "print(\"Jumlah validasi kelas daun pepaya : \", pepaya_len_val)\n",
        "print(\"Jumlah validasi kelas daun lidah buaya : \", lidah_len_val)\n",
        "print(\"Jumlah validasi kelas daun jambu biji : \", jambu_len_val)\n",
        "print(\"Jumlah validasi kelas daun seledri : \", seledri_len_val)"
      ],
      "metadata": {
        "colab": {
          "base_uri": "https://localhost:8080/"
        },
        "id": "dyq6GGdiXeUv",
        "outputId": "7e0cbc8e-06d0-4cf2-b208-45a6d00c2d6a"
      },
      "execution_count": 21,
      "outputs": [
        {
          "output_type": "stream",
          "name": "stdout",
          "text": [
            "Jumlah dataset training :  314\n",
            "Jumlah dataset validasi :  35\n",
            "\n",
            "Jumlah train kelas daun jeruk :  45\n",
            "Jumlah train kelas daun sirih :  45\n",
            "Jumlah train kelas daun belimbing wuluh :  45\n",
            "Jumlah train kelas daun pepaya :  44\n",
            "Jumlah train kelas daun lidah buaya :  45\n",
            "Jumlah train kelas daun jambu biji :  45\n",
            "Jumlah train kelas daun seledri :  45\n",
            "\n",
            "Jumlah validasi kelas daun jeruk :  5\n",
            "Jumlah validasi kelas daun sirih :  5\n",
            "Jumlah validasi kelas daun belimbing wuluh :  5\n",
            "Jumlah validasi kelas daun pepaya :  5\n",
            "Jumlah validasi kelas daun lidah buaya :  5\n",
            "Jumlah validasi kelas daun jambu biji :  5\n",
            "Jumlah validasi kelas daun seledri :  5\n"
          ]
        }
      ]
    },
    {
      "cell_type": "markdown",
      "source": [
        "### #004 - Pengecekan Format nama dan ekstensi"
      ],
      "metadata": {
        "id": "4G4w1FRKXmev"
      }
    },
    {
      "cell_type": "code",
      "source": [
        "train_jeruk_fnames = os.listdir(jeruk_train_path)\n",
        "train_sirih_fnames = os.listdir(sirih_train_path)\n",
        "train_belimbing_fnames = os.listdir(belimbing_train_path)\n",
        "train_pepaya_fnames = os.listdir(pepaya_train_path)\n",
        "train_lidah_fnames = os.listdir(lidah_train_path)\n",
        "train_jambu_fnames = os.listdir(jambu_train_path)\n",
        "train_seledri_fnames = os.listdir(seledri_train_path)\n",
        "\n",
        "\n",
        "print(train_jeruk_fnames[:10])\n",
        "print(train_sirih_fnames[:10])\n",
        "print(train_belimbing_fnames[:10])\n",
        "print(train_pepaya_fnames[:10])\n",
        "print(train_lidah_fnames[:10])\n",
        "print(train_jambu_fnames[:10])\n",
        "print(train_seledri_fnames[:10])"
      ],
      "metadata": {
        "colab": {
          "base_uri": "https://localhost:8080/"
        },
        "id": "cKzU6_bLXsTO",
        "outputId": "837a6243-9e96-4036-a1a1-f06e28a052c9"
      },
      "execution_count": 22,
      "outputs": [
        {
          "output_type": "stream",
          "name": "stdout",
          "text": [
            "['003.jpg', '002.jpg', '021.jpg', '018.jpg', '049.jpg', '030.jpg', '009.jpg', '019.jpg', '032.jpg', '031.jpg']\n",
            "['003.jpg', '002.jpg', '021.jpg', '018.jpg', '049.jpg', '030.jpg', '009.jpg', '019.jpg', '032.jpg', '031.jpg']\n",
            "['Belimbing Wuluh103.jpg', 'Belimbing Wuluh101.jpg', 'Belimbing Wuluh2.jpg', 'Belimbing Wuluh167.jpg', 'Belimbing Wuluh89.jpg', 'Belimbing Wuluh49.jpg', 'Belimbing Wuluh134.jpg', 'Belimbing Wuluh177.jpg', 'Belimbing Wuluh53.jpg', 'Belimbing Wuluh5.jpg']\n",
            "['Pepaya12.jpg', 'Pepaya11.jpg', 'Pepaya35.jpg', 'Pepaya30.jpg', 'Pepaya77.jpg', 'Pepaya47.jpg', 'Pepaya19.jpg', 'Pepaya31.jpg', 'Pepaya50.jpg', 'Pepaya48.jpg']\n",
            "['Lidah buaya12.jpg', 'Lidah buaya11.jpg', 'Lidah buaya34.jpg', 'Lidah buaya3.jpg', 'Lidah buaya77.jpg', 'Lidah buaya46.jpg', 'Lidah buaya19.jpg', 'Lidah buaya30.jpg', 'Lidah buaya48.jpg', 'Lidah buaya47.jpg']\n",
            "['Jambu biji12.jpg', 'Jambu biji11.jpg', 'Jambu biji34.jpg', 'Jambu biji3.jpg', 'Jambu biji77.jpg', 'Jambu biji46.jpg', 'Jambu biji19.jpg', 'Jambu biji30.jpg', 'Jambu biji48.jpg', 'Jambu biji47.jpg']\n",
            "['Seledri103.jpg', 'Seledri101.jpg', 'Seledri2.jpg', 'Seledri167.jpg', 'Seledri89.jpg', 'Seledri49.jpg', 'Seledri134.jpg', 'Seledri177.jpg', 'Seledri53.jpg', 'Seledri5.jpg']\n"
          ]
        }
      ]
    },
    {
      "cell_type": "markdown",
      "source": [
        "### #005 - Melihat gambar yang akan dilatih"
      ],
      "metadata": {
        "id": "LwTz9uAGXvW-"
      }
    },
    {
      "cell_type": "code",
      "source": [
        "# import terlebih dahulu library yang diperlukan\n",
        "import matplotlib.image as mpimg\n",
        "import matplotlib.pyplot as plt\n",
        "\n",
        "# Parameter dari visualisasi dimana terdiri dari 4 kolom\n",
        "nrows = 4\n",
        "ncols = 4\n",
        "\n",
        "# Inisialisasi nilai awal untuk melakukan iterasi\n",
        "pic_index = 0"
      ],
      "metadata": {
        "id": "1QpfIkdBX0f2"
      },
      "execution_count": 23,
      "outputs": []
    },
    {
      "cell_type": "code",
      "source": [
        "# Mengatur matplotlib fig, dan ukuran visualisasi ke 4x4 pics\n",
        "\n",
        "fig = plt.gcf()\n",
        "fig.set_size_inches(ncols*4, nrows*4)\n",
        "\n",
        "pic_index += 8\n",
        "\n",
        "next_jeruk_pix = [os.path.join(jeruk_train_path, fname)\n",
        "                   for fname in train_jeruk_fnames[pic_index-8:pic_index]\n",
        "                  ]\n",
        "\n",
        "next_sirih_pix = [os.path.join(sirih_train_path, fname)\n",
        "                   for fname in train_sirih_fnames[pic_index-8:pic_index]\n",
        "                  ]\n",
        "\n",
        "next_belimbing_pix = [os.path.join(belimbing_train_path, fname)\n",
        "                   for fname in train_belimbing_fnames[pic_index-8:pic_index]\n",
        "                  ]\n",
        "\n",
        "next_pepaya_pix = [os.path.join(pepaya_train_path, fname)\n",
        "                   for fname in train_pepaya_fnames[pic_index-8:pic_index]\n",
        "                  ]\n",
        "\n",
        "next_lidah_pix = [os.path.join(lidah_train_path, fname)\n",
        "                   for fname in train_lidah_fnames[pic_index-8:pic_index]\n",
        "                  ]\n",
        "\n",
        "next_jambu_pix = [os.path.join(jambu_train_path, fname)\n",
        "                   for fname in train_jambu_fnames[pic_index-8:pic_index]\n",
        "                  ]\n",
        "\n",
        "next_seledri_pix = [os.path.join(seledri_train_path, fname)\n",
        "                   for fname in train_seledri_fnames[pic_index-8:pic_index]\n",
        "                  ]                                                                        \n",
        "\n",
        "for i, img_path in enumerate(next_jeruk_pix+next_sirih_pix+next_belimbing_pix+next_pepaya_pix+next_lidah_pix+next_jambu_pix+next_seledri_pix):\n",
        "  # Menyeting subplot\n",
        "  sp = plt.subplot(nrows, ncols, i + 1)\n",
        "  # set axis 'on' to show gridlines else hide\n",
        "  sp.axis(\"on\")\n",
        "\n",
        "  img = mpimg.imread(img_path)\n",
        "  plt.imshow(img)\n",
        "\n",
        "plt.show() "
      ],
      "metadata": {
        "colab": {
          "base_uri": "https://localhost:8080/",
          "height": 35
        },
        "id": "biWKcIwQX4k-",
        "outputId": "47c4de82-a975-4c41-ea17-a92c4babcf3b"
      },
      "execution_count": 58,
      "outputs": [
        {
          "output_type": "display_data",
          "data": {
            "text/plain": [
              "<Figure size 1152x1152 with 0 Axes>"
            ]
          },
          "metadata": {}
        }
      ]
    },
    {
      "cell_type": "markdown",
      "source": [
        "# 04. Data Augmentation"
      ],
      "metadata": {
        "id": "n8mEJOVwZmKC"
      }
    },
    {
      "cell_type": "markdown",
      "source": [
        "### #001 - Description and Purpose"
      ],
      "metadata": {
        "id": "YUfGy7j4b9Zk"
      }
    },
    {
      "cell_type": "markdown",
      "source": [
        "**Augmentasi Data** adalah suatu proses dalam pengolahan data gambar, augmentasi merupakan proses mengubah atau memodifikasi gambar sedemikian rupa sehingga komputer akan mendeteksi bahwa gambar yang diubah\n",
        "adalah gambar yang berbeda, namun manusia masih dapat mengetahui bahwa gambar yang diubah tersebut adalah\n",
        "gambar yang sama\n",
        "\n",
        "**Tujuan Augmentasi Data** :\n",
        "*   Pada kasus ini dilakukan augmentasi untuk menghindari adanya overfitting pada saat pelatihan\n",
        "*   Augmentasi memungkinkan gambar training untuk dioptimalisasi seluruh infomasinya seperti melakukan rotate, shear, zoom, horizontal_flop, dan lainnya sehingga ketika model dilatih menggunakan data yang memiliki angel (posisi) yang berbeda dapat teratasi karena menerapkan augmentasi."
      ],
      "metadata": {
        "id": "YZoRCCpabY7w"
      }
    },
    {
      "cell_type": "markdown",
      "source": [
        "### #002 - Augmentation Process"
      ],
      "metadata": {
        "id": "qUZs0f19dRjK"
      }
    },
    {
      "cell_type": "code",
      "source": [
        "# Mempersiapkan generator untuk melakukan : \n",
        "# a. Augmentasi Data\n",
        "# b. Melakukan normalisasi pada pixel image dsb menggunakan library Keras\n",
        "\n",
        "from tensorflow.keras.preprocessing.image import ImageDataGenerator\n",
        "\n",
        "train_datagen = ImageDataGenerator(rescale = 1./255,\n",
        "                                   rotation_range=40,\n",
        "                                   width_shift_range=0.2,\n",
        "                                   height_shift_range=0.2,\n",
        "                                   shear_range=0.2,\n",
        "                                   zoom_range=0.2,\n",
        "                                   horizontal_flip=True,\n",
        "                                   fill_mode='nearest')\n",
        "\n",
        "val_datagen = ImageDataGenerator(rescale = 1.0/255.)\n",
        "\n",
        "# - - - - - - - - - - - - - - - - - - - - - - - - - - - - - - - - - - - - -\n",
        "# Flow training images dalam 20 batches menggunakan train_datagen generator\n",
        "# - - - - - - - - - - - - - - - - - - - - - - - - - - - - - - - - - - - - -\n",
        "train_generator = train_datagen.flow_from_directory(train_dir,\n",
        "                                                    batch_size=2,\n",
        "                                                    # Menggunakan mode binary (karena banyaknya class tidak lebih dari 2)\n",
        "                                                    class_mode='binary',\n",
        "                                                    target_size=(150, 150))\n",
        "\n",
        "# - - - - - - - - - - - - - - - - - - - - - - - - - - - - - - - - - - - - - \n",
        "# Flow validation images dalam 20 batches menggunakan val_datagen generator\n",
        "# - - - - - - - - - - - - - - - - - - - - - - - - - - - - - - - - - - - - - \n",
        "validation_generator = val_datagen.flow_from_directory(val_dir,\n",
        "                                                       batch_size=2,\n",
        "                                                       # Menggunakan mode binary (karena banyaknya class tidak lebih dari 2)\n",
        "                                                       class_mode='binary',\n",
        "                                                       target_size=(150, 150))"
      ],
      "metadata": {
        "colab": {
          "base_uri": "https://localhost:8080/"
        },
        "id": "l5UHoN2za1ZH",
        "outputId": "14fde154-7aad-422b-b8cc-4d78b67dea67"
      },
      "execution_count": 29,
      "outputs": [
        {
          "output_type": "stream",
          "name": "stdout",
          "text": [
            "Found 314 images belonging to 7 classes.\n",
            "Found 35 images belonging to 7 classes.\n"
          ]
        }
      ]
    },
    {
      "cell_type": "markdown",
      "source": [
        "# 05. Build Architectur Model and Fit Model"
      ],
      "metadata": {
        "id": "SGSvSat9bf0t"
      }
    },
    {
      "cell_type": "markdown",
      "source": [
        "### #001 - Feature Extraction Layer"
      ],
      "metadata": {
        "id": "0GB5XiX8b3e9"
      }
    },
    {
      "cell_type": "code",
      "source": [
        "# import library yang dibutuhkan\n",
        "from tensorflow.keras.models import Sequential\n",
        "from tensorflow.keras.layers import InputLayer, Dense, Conv2D, AveragePooling2D, Flatten, GlobalAveragePooling2D, Dropout"
      ],
      "metadata": {
        "id": "9R5BjJv-eVZA"
      },
      "execution_count": 30,
      "outputs": []
    },
    {
      "cell_type": "code",
      "source": [
        "# Feature Extraction Layer\n",
        "model = Sequential()\n",
        "\n",
        "model.add(InputLayer(input_shape=[150,150,3]))\n",
        "model.add(Conv2D(filters=64, kernel_size=3, strides=1, padding='same', activation='relu'))\n",
        "model.add(AveragePooling2D(pool_size=2, padding='same'))\n",
        "model.add(Conv2D(filters=128, kernel_size=3, strides=1, padding='same', activation='relu'))\n",
        "model.add(AveragePooling2D(pool_size=2, padding='same'))\n",
        "model.add(Conv2D(filters=256, kernel_size=3, strides=1, padding='same', activation='relu'))\n",
        "model.add(AveragePooling2D(pool_size=2, padding='same'))\n",
        "model.add(Conv2D(filters=256, kernel_size=3, strides=1, padding='same', activation='relu'))\n",
        "model.add(AveragePooling2D(pool_size=2, padding='same'))\n",
        "model.add(GlobalAveragePooling2D())\n",
        "model.add(Flatten())\n",
        "model.add(Dropout(0.0001))"
      ],
      "metadata": {
        "id": "6P76hVAhehHv"
      },
      "execution_count": 31,
      "outputs": []
    },
    {
      "cell_type": "markdown",
      "source": [
        "### #002 - Fully Connected Layer"
      ],
      "metadata": {
        "id": "6b7xSFdKemmo"
      }
    },
    {
      "cell_type": "code",
      "source": [
        "# Fully Connected Layer\n",
        "model.add(Dense(1024, activation='relu'))\n",
        "model.add(Dropout(0.0001))\n",
        "model.add(Dense(1024, activation='relu'))\n",
        "model.add(Dropout(0.0001))\n",
        "model.add(Dense(1, activation='sigmoid'))"
      ],
      "metadata": {
        "id": "VekSs1hjfQ5g"
      },
      "execution_count": 32,
      "outputs": []
    },
    {
      "cell_type": "markdown",
      "source": [
        "### #003 - Result from Model Summary"
      ],
      "metadata": {
        "id": "Eo-o3F6kez3m"
      }
    },
    {
      "cell_type": "code",
      "source": [
        "# Print model summary\n",
        "print(model.summary())"
      ],
      "metadata": {
        "colab": {
          "base_uri": "https://localhost:8080/"
        },
        "id": "QJ-3xTrxfY6f",
        "outputId": "d98cf278-0161-4eea-a075-27f0e2260f97"
      },
      "execution_count": 33,
      "outputs": [
        {
          "output_type": "stream",
          "name": "stdout",
          "text": [
            "Model: \"sequential\"\n",
            "_________________________________________________________________\n",
            " Layer (type)                Output Shape              Param #   \n",
            "=================================================================\n",
            " conv2d (Conv2D)             (None, 150, 150, 64)      1792      \n",
            "                                                                 \n",
            " average_pooling2d (AverageP  (None, 75, 75, 64)       0         \n",
            " ooling2D)                                                       \n",
            "                                                                 \n",
            " conv2d_1 (Conv2D)           (None, 75, 75, 128)       73856     \n",
            "                                                                 \n",
            " average_pooling2d_1 (Averag  (None, 38, 38, 128)      0         \n",
            " ePooling2D)                                                     \n",
            "                                                                 \n",
            " conv2d_2 (Conv2D)           (None, 38, 38, 256)       295168    \n",
            "                                                                 \n",
            " average_pooling2d_2 (Averag  (None, 19, 19, 256)      0         \n",
            " ePooling2D)                                                     \n",
            "                                                                 \n",
            " conv2d_3 (Conv2D)           (None, 19, 19, 256)       590080    \n",
            "                                                                 \n",
            " average_pooling2d_3 (Averag  (None, 10, 10, 256)      0         \n",
            " ePooling2D)                                                     \n",
            "                                                                 \n",
            " global_average_pooling2d (G  (None, 256)              0         \n",
            " lobalAveragePooling2D)                                          \n",
            "                                                                 \n",
            " flatten (Flatten)           (None, 256)               0         \n",
            "                                                                 \n",
            " dropout (Dropout)           (None, 256)               0         \n",
            "                                                                 \n",
            " dense (Dense)               (None, 1024)              263168    \n",
            "                                                                 \n",
            " dropout_1 (Dropout)         (None, 1024)              0         \n",
            "                                                                 \n",
            " dense_1 (Dense)             (None, 1024)              1049600   \n",
            "                                                                 \n",
            " dropout_2 (Dropout)         (None, 1024)              0         \n",
            "                                                                 \n",
            " dense_2 (Dense)             (None, 1)                 1025      \n",
            "                                                                 \n",
            "=================================================================\n",
            "Total params: 2,274,689\n",
            "Trainable params: 2,274,689\n",
            "Non-trainable params: 0\n",
            "_________________________________________________________________\n",
            "None\n"
          ]
        }
      ]
    },
    {
      "cell_type": "markdown",
      "source": [
        "### #004 - Compiling Model with Additional Callback"
      ],
      "metadata": {
        "id": "vm5PU2Nffdd9"
      }
    },
    {
      "cell_type": "code",
      "source": [
        "# Compile model\n",
        "from tensorflow.keras.optimizers import Adam\n",
        "\n",
        "model.compile(optimizer = Adam(learning_rate = 1e-4), # 1e-4 == 0.0001\n",
        "              loss = \"binary_crossentropy\",\n",
        "              metrics = [\"acc\"])"
      ],
      "metadata": {
        "id": "Tg2DTJr8f4nd"
      },
      "execution_count": 34,
      "outputs": []
    },
    {
      "cell_type": "code",
      "source": [
        "from keras.callbacks import ModelCheckpoint, EarlyStopping\n",
        "\n",
        "# Menggunakan 2 jenis Callback :\n",
        "\n",
        "# 01 - EarlyStopping yang digunakan untuk memonitor kinerja dari pelatihan/epoch dimana jika vall_loss tidak mengalami perbaikan\n",
        "# selama 5 epoch maka pelatihan akan dihentikan.\n",
        "\n",
        "callbacks = EarlyStopping(monitor='val_loss', patience=15, verbose=1, mode='auto')        \n",
        "directory_to_save_best_model_file = '/content/gdrive/MyDrive/Colab Notebooks/DH_CNN/Model Dataset/model_drop_batch_weight_from_callback.h5'\n",
        "\n",
        "# 02 - Callback kedua digunakan untuk melakukan saving model terbaik berdasarkan nilai dari val_acc\n",
        "# Setting Callback for saving the best model in format h5 to GDrive directory\n",
        "\n",
        "best_model = ModelCheckpoint(directory_to_save_best_model_file, monitor='val_acc', verbose = 1, save_best_only = True)\n"
      ],
      "metadata": {
        "id": "YMphAMr5f9TF"
      },
      "execution_count": 35,
      "outputs": []
    },
    {
      "cell_type": "code",
      "source": [
        "# Model Fitting\n",
        "history = model.fit(\n",
        "      train_generator, \n",
        "      # Images = batch_size * steps \n",
        "      steps_per_epoch = 45,\n",
        "      epochs = 45,\n",
        "      validation_data = validation_generator,\n",
        "      # Images = batch_size * steps \n",
        "      validation_steps = 5,\n",
        "      callbacks = [callbacks, best_model]\n",
        ")"
      ],
      "metadata": {
        "colab": {
          "base_uri": "https://localhost:8080/"
        },
        "id": "eg9pXEDDhR75",
        "outputId": "38be63e7-2100-4770-f396-7b6d9f0a8d37"
      },
      "execution_count": 36,
      "outputs": [
        {
          "output_type": "stream",
          "name": "stdout",
          "text": [
            "Epoch 1/45\n",
            "45/45 [==============================] - ETA: 0s - loss: -67.2030 - acc: 0.1222\n",
            "Epoch 00001: val_acc improved from -inf to 0.10000, saving model to /content/gdrive/MyDrive/Colab Notebooks/DH_CNN/Model Dataset/model_drop_batch_weight_from_callback.h5\n",
            "45/45 [==============================] - 28s 564ms/step - loss: -67.2030 - acc: 0.1222 - val_loss: -226.0040 - val_acc: 0.1000\n",
            "Epoch 2/45\n",
            "45/45 [==============================] - ETA: 0s - loss: -21221.5918 - acc: 0.1778\n",
            "Epoch 00002: val_acc did not improve from 0.10000\n",
            "45/45 [==============================] - 18s 403ms/step - loss: -21221.5918 - acc: 0.1778 - val_loss: -91002.7734 - val_acc: 0.0000e+00\n",
            "Epoch 3/45\n",
            "45/45 [==============================] - ETA: 0s - loss: -1102395.8750 - acc: 0.1333\n",
            "Epoch 00003: val_acc improved from 0.10000 to 0.20000, saving model to /content/gdrive/MyDrive/Colab Notebooks/DH_CNN/Model Dataset/model_drop_batch_weight_from_callback.h5\n",
            "45/45 [==============================] - 19s 419ms/step - loss: -1102395.8750 - acc: 0.1333 - val_loss: -3728620.7500 - val_acc: 0.2000\n",
            "Epoch 4/45\n",
            "45/45 [==============================] - ETA: 0s - loss: -22243916.0000 - acc: 0.1444\n",
            "Epoch 00004: val_acc did not improve from 0.20000\n",
            "45/45 [==============================] - 18s 389ms/step - loss: -22243916.0000 - acc: 0.1444 - val_loss: -34533764.0000 - val_acc: 0.2000\n",
            "Epoch 5/45\n",
            "45/45 [==============================] - ETA: 0s - loss: -215218448.0000 - acc: 0.1333\n",
            "Epoch 00005: val_acc did not improve from 0.20000\n",
            "45/45 [==============================] - 19s 423ms/step - loss: -215218448.0000 - acc: 0.1333 - val_loss: -457901824.0000 - val_acc: 0.1000\n",
            "Epoch 6/45\n",
            "45/45 [==============================] - ETA: 0s - loss: -1235533056.0000 - acc: 0.1333\n",
            "Epoch 00006: val_acc did not improve from 0.20000\n",
            "45/45 [==============================] - 18s 397ms/step - loss: -1235533056.0000 - acc: 0.1333 - val_loss: -3487466240.0000 - val_acc: 0.0000e+00\n",
            "Epoch 7/45\n",
            "45/45 [==============================] - ETA: 0s - loss: -5235804672.0000 - acc: 0.1444\n",
            "Epoch 00007: val_acc did not improve from 0.20000\n",
            "45/45 [==============================] - 18s 392ms/step - loss: -5235804672.0000 - acc: 0.1444 - val_loss: -10755344384.0000 - val_acc: 0.2000\n",
            "Epoch 8/45\n",
            "45/45 [==============================] - ETA: 0s - loss: -14541699072.0000 - acc: 0.1556\n",
            "Epoch 00008: val_acc did not improve from 0.20000\n",
            "45/45 [==============================] - 17s 383ms/step - loss: -14541699072.0000 - acc: 0.1556 - val_loss: -29281167360.0000 - val_acc: 0.1000\n",
            "Epoch 9/45\n",
            "45/45 [==============================] - ETA: 0s - loss: -39190204416.0000 - acc: 0.2000\n",
            "Epoch 00009: val_acc did not improve from 0.20000\n",
            "45/45 [==============================] - 18s 393ms/step - loss: -39190204416.0000 - acc: 0.2000 - val_loss: -49898594304.0000 - val_acc: 0.2000\n",
            "Epoch 10/45\n",
            "45/45 [==============================] - ETA: 0s - loss: -90465067008.0000 - acc: 0.1556\n",
            "Epoch 00010: val_acc did not improve from 0.20000\n",
            "45/45 [==============================] - 17s 385ms/step - loss: -90465067008.0000 - acc: 0.1556 - val_loss: -98191523840.0000 - val_acc: 0.1000\n",
            "Epoch 11/45\n",
            "45/45 [==============================] - ETA: 0s - loss: -185678217216.0000 - acc: 0.1111\n",
            "Epoch 00011: val_acc did not improve from 0.20000\n",
            "45/45 [==============================] - 18s 403ms/step - loss: -185678217216.0000 - acc: 0.1111 - val_loss: -365555974144.0000 - val_acc: 0.1000\n",
            "Epoch 12/45\n",
            "45/45 [==============================] - ETA: 0s - loss: -443908456448.0000 - acc: 0.1778\n",
            "Epoch 00012: val_acc did not improve from 0.20000\n",
            "45/45 [==============================] - 17s 384ms/step - loss: -443908456448.0000 - acc: 0.1778 - val_loss: -768404881408.0000 - val_acc: 0.2000\n",
            "Epoch 13/45\n",
            "45/45 [==============================] - ETA: 0s - loss: -773076615168.0000 - acc: 0.1556\n",
            "Epoch 00013: val_acc improved from 0.20000 to 0.30000, saving model to /content/gdrive/MyDrive/Colab Notebooks/DH_CNN/Model Dataset/model_drop_batch_weight_from_callback.h5\n",
            "45/45 [==============================] - 18s 409ms/step - loss: -773076615168.0000 - acc: 0.1556 - val_loss: -990403297280.0000 - val_acc: 0.3000\n",
            "Epoch 14/45\n",
            "45/45 [==============================] - ETA: 0s - loss: -1335013539840.0000 - acc: 0.1667\n",
            "Epoch 00014: val_acc did not improve from 0.30000\n",
            "45/45 [==============================] - 18s 394ms/step - loss: -1335013539840.0000 - acc: 0.1667 - val_loss: -785612210176.0000 - val_acc: 0.3000\n",
            "Epoch 15/45\n",
            "45/45 [==============================] - ETA: 0s - loss: -2277658853376.0000 - acc: 0.1556\n",
            "Epoch 00015: val_acc did not improve from 0.30000\n",
            "45/45 [==============================] - 18s 389ms/step - loss: -2277658853376.0000 - acc: 0.1556 - val_loss: -3640348901376.0000 - val_acc: 0.2000\n",
            "Epoch 16/45\n",
            "45/45 [==============================] - ETA: 0s - loss: -4617658171392.0000 - acc: 0.1222\n",
            "Epoch 00016: val_acc did not improve from 0.30000\n",
            "45/45 [==============================] - 19s 410ms/step - loss: -4617658171392.0000 - acc: 0.1222 - val_loss: -3037248094208.0000 - val_acc: 0.1000\n",
            "Epoch 17/45\n",
            "45/45 [==============================] - ETA: 0s - loss: -5789023993856.0000 - acc: 0.1778\n",
            "Epoch 00017: val_acc did not improve from 0.30000\n",
            "45/45 [==============================] - 18s 389ms/step - loss: -5789023993856.0000 - acc: 0.1778 - val_loss: -8424708374528.0000 - val_acc: 0.1000\n",
            "Epoch 18/45\n",
            "45/45 [==============================] - ETA: 0s - loss: -9331664748544.0000 - acc: 0.1444\n",
            "Epoch 00018: val_acc did not improve from 0.30000\n",
            "45/45 [==============================] - 18s 389ms/step - loss: -9331664748544.0000 - acc: 0.1444 - val_loss: -20118658613248.0000 - val_acc: 0.1000\n",
            "Epoch 19/45\n",
            "45/45 [==============================] - ETA: 0s - loss: -12431581511680.0000 - acc: 0.1222\n",
            "Epoch 00019: val_acc did not improve from 0.30000\n",
            "45/45 [==============================] - 18s 395ms/step - loss: -12431581511680.0000 - acc: 0.1222 - val_loss: -18643305889792.0000 - val_acc: 0.2000\n",
            "Epoch 20/45\n",
            "45/45 [==============================] - ETA: 0s - loss: -19254925590528.0000 - acc: 0.2000\n",
            "Epoch 00020: val_acc did not improve from 0.30000\n",
            "45/45 [==============================] - 18s 394ms/step - loss: -19254925590528.0000 - acc: 0.2000 - val_loss: -29311201443840.0000 - val_acc: 0.1000\n",
            "Epoch 21/45\n",
            "45/45 [==============================] - ETA: 0s - loss: -28769532248064.0000 - acc: 0.1667\n",
            "Epoch 00021: val_acc did not improve from 0.30000\n",
            "45/45 [==============================] - 17s 383ms/step - loss: -28769532248064.0000 - acc: 0.1667 - val_loss: -49959017644032.0000 - val_acc: 0.1000\n",
            "Epoch 22/45\n",
            "45/45 [==============================] - ETA: 0s - loss: -38607872065536.0000 - acc: 0.1556\n",
            "Epoch 00022: val_acc did not improve from 0.30000\n",
            "45/45 [==============================] - 17s 385ms/step - loss: -38607872065536.0000 - acc: 0.1556 - val_loss: -29039905472512.0000 - val_acc: 0.0000e+00\n",
            "Epoch 23/45\n",
            "45/45 [==============================] - ETA: 0s - loss: -52564343128064.0000 - acc: 0.1111\n",
            "Epoch 00023: val_acc did not improve from 0.30000\n",
            "45/45 [==============================] - 18s 393ms/step - loss: -52564343128064.0000 - acc: 0.1111 - val_loss: -70146601254912.0000 - val_acc: 0.1000\n",
            "Epoch 24/45\n",
            "45/45 [==============================] - ETA: 0s - loss: -83317466595328.0000 - acc: 0.1333\n",
            "Epoch 00024: val_acc did not improve from 0.30000\n",
            "45/45 [==============================] - 18s 391ms/step - loss: -83317466595328.0000 - acc: 0.1333 - val_loss: -87446473670656.0000 - val_acc: 0.2000\n",
            "Epoch 25/45\n",
            "45/45 [==============================] - ETA: 0s - loss: -100275952025600.0000 - acc: 0.2111\n",
            "Epoch 00025: val_acc did not improve from 0.30000\n",
            "45/45 [==============================] - 17s 383ms/step - loss: -100275952025600.0000 - acc: 0.2111 - val_loss: -140140378849280.0000 - val_acc: 0.0000e+00\n",
            "Epoch 26/45\n",
            "45/45 [==============================] - ETA: 0s - loss: -143768510529536.0000 - acc: 0.1000\n",
            "Epoch 00026: val_acc did not improve from 0.30000\n",
            "45/45 [==============================] - 18s 388ms/step - loss: -143768510529536.0000 - acc: 0.1000 - val_loss: -145836453396480.0000 - val_acc: 0.1000\n",
            "Epoch 27/45\n",
            "45/45 [==============================] - ETA: 0s - loss: -155244545703936.0000 - acc: 0.1778\n",
            "Epoch 00027: val_acc did not improve from 0.30000\n",
            "45/45 [==============================] - 17s 387ms/step - loss: -155244545703936.0000 - acc: 0.1778 - val_loss: -264447746637824.0000 - val_acc: 0.0000e+00\n",
            "Epoch 28/45\n",
            "45/45 [==============================] - ETA: 0s - loss: -241305321996288.0000 - acc: 0.1556\n",
            "Epoch 00028: val_acc did not improve from 0.30000\n",
            "45/45 [==============================] - 17s 386ms/step - loss: -241305321996288.0000 - acc: 0.1556 - val_loss: -188595017089024.0000 - val_acc: 0.2000\n",
            "Epoch 29/45\n",
            "45/45 [==============================] - ETA: 0s - loss: -272240562143232.0000 - acc: 0.1111\n",
            "Epoch 00029: val_acc did not improve from 0.30000\n",
            "45/45 [==============================] - 18s 390ms/step - loss: -272240562143232.0000 - acc: 0.1111 - val_loss: -417306739998720.0000 - val_acc: 0.0000e+00\n",
            "Epoch 30/45\n",
            "45/45 [==============================] - ETA: 0s - loss: -404905860792320.0000 - acc: 0.1444\n",
            "Epoch 00030: val_acc did not improve from 0.30000\n",
            "45/45 [==============================] - 18s 389ms/step - loss: -404905860792320.0000 - acc: 0.1444 - val_loss: -355708218376192.0000 - val_acc: 0.3000\n",
            "Epoch 31/45\n",
            "45/45 [==============================] - ETA: 0s - loss: -499287599349760.0000 - acc: 0.0889\n",
            "Epoch 00031: val_acc did not improve from 0.30000\n",
            "45/45 [==============================] - 18s 391ms/step - loss: -499287599349760.0000 - acc: 0.0889 - val_loss: -524550429212672.0000 - val_acc: 0.1000\n",
            "Epoch 32/45\n",
            "45/45 [==============================] - ETA: 0s - loss: -583258303627264.0000 - acc: 0.1333\n",
            "Epoch 00032: val_acc did not improve from 0.30000\n",
            "45/45 [==============================] - 18s 393ms/step - loss: -583258303627264.0000 - acc: 0.1333 - val_loss: -759993926156288.0000 - val_acc: 0.2000\n",
            "Epoch 33/45\n",
            "45/45 [==============================] - ETA: 0s - loss: -609999441100800.0000 - acc: 0.2333\n",
            "Epoch 00033: val_acc improved from 0.30000 to 0.40000, saving model to /content/gdrive/MyDrive/Colab Notebooks/DH_CNN/Model Dataset/model_drop_batch_weight_from_callback.h5\n",
            "45/45 [==============================] - 18s 401ms/step - loss: -609999441100800.0000 - acc: 0.2333 - val_loss: -452020947386368.0000 - val_acc: 0.4000\n",
            "Epoch 34/45\n",
            "45/45 [==============================] - ETA: 0s - loss: -796735358107648.0000 - acc: 0.1778\n",
            "Epoch 00034: val_acc did not improve from 0.40000\n",
            "45/45 [==============================] - 18s 395ms/step - loss: -796735358107648.0000 - acc: 0.1778 - val_loss: -1206355918585856.0000 - val_acc: 0.1000\n",
            "Epoch 35/45\n",
            "45/45 [==============================] - ETA: 0s - loss: -1077473949253632.0000 - acc: 0.1111\n",
            "Epoch 00035: val_acc did not improve from 0.40000\n",
            "45/45 [==============================] - 18s 394ms/step - loss: -1077473949253632.0000 - acc: 0.1111 - val_loss: -1126942912806912.0000 - val_acc: 0.1000\n",
            "Epoch 36/45\n",
            "45/45 [==============================] - ETA: 0s - loss: -1420719615377408.0000 - acc: 0.1444\n",
            "Epoch 00036: val_acc did not improve from 0.40000\n",
            "45/45 [==============================] - 18s 394ms/step - loss: -1420719615377408.0000 - acc: 0.1444 - val_loss: -1414033022386176.0000 - val_acc: 0.1000\n",
            "Epoch 37/45\n",
            "45/45 [==============================] - ETA: 0s - loss: -1535409066606592.0000 - acc: 0.1889\n",
            "Epoch 00037: val_acc did not improve from 0.40000\n",
            "45/45 [==============================] - 17s 383ms/step - loss: -1535409066606592.0000 - acc: 0.1889 - val_loss: -1865993370468352.0000 - val_acc: 0.2000\n",
            "Epoch 38/45\n",
            "45/45 [==============================] - ETA: 0s - loss: -1847922027134976.0000 - acc: 0.1222\n",
            "Epoch 00038: val_acc did not improve from 0.40000\n",
            "45/45 [==============================] - 17s 386ms/step - loss: -1847922027134976.0000 - acc: 0.1222 - val_loss: -2273093724667904.0000 - val_acc: 0.1000\n",
            "Epoch 39/45\n",
            "45/45 [==============================] - ETA: 0s - loss: -1903701438496768.0000 - acc: 0.1444\n",
            "Epoch 00039: val_acc did not improve from 0.40000\n",
            "45/45 [==============================] - 18s 391ms/step - loss: -1903701438496768.0000 - acc: 0.1444 - val_loss: -3485247043796992.0000 - val_acc: 0.1000\n",
            "Epoch 40/45\n",
            "45/45 [==============================] - ETA: 0s - loss: -3006879491948544.0000 - acc: 0.1000\n",
            "Epoch 00040: val_acc did not improve from 0.40000\n",
            "45/45 [==============================] - 18s 388ms/step - loss: -3006879491948544.0000 - acc: 0.1000 - val_loss: -3245171793723392.0000 - val_acc: 0.1000\n",
            "Epoch 41/45\n",
            "45/45 [==============================] - ETA: 0s - loss: -2970764454133760.0000 - acc: 0.1333\n",
            "Epoch 00041: val_acc did not improve from 0.40000\n",
            "45/45 [==============================] - 18s 387ms/step - loss: -2970764454133760.0000 - acc: 0.1333 - val_loss: -3145585192337408.0000 - val_acc: 0.2000\n",
            "Epoch 42/45\n",
            "45/45 [==============================] - ETA: 0s - loss: -3229867751505920.0000 - acc: 0.1444\n",
            "Epoch 00042: val_acc did not improve from 0.40000\n",
            "45/45 [==============================] - 18s 393ms/step - loss: -3229867751505920.0000 - acc: 0.1444 - val_loss: -3286339592126464.0000 - val_acc: 0.1000\n",
            "Epoch 43/45\n",
            "45/45 [==============================] - ETA: 0s - loss: -4550431950766080.0000 - acc: 0.1333\n",
            "Epoch 00043: val_acc did not improve from 0.40000\n",
            "45/45 [==============================] - 18s 389ms/step - loss: -4550431950766080.0000 - acc: 0.1333 - val_loss: -5058446051246080.0000 - val_acc: 0.3000\n",
            "Epoch 44/45\n",
            "45/45 [==============================] - ETA: 0s - loss: -4551980286476288.0000 - acc: 0.1333\n",
            "Epoch 00044: val_acc did not improve from 0.40000\n",
            "45/45 [==============================] - 17s 385ms/step - loss: -4551980286476288.0000 - acc: 0.1333 - val_loss: -2440973258850304.0000 - val_acc: 0.2000\n",
            "Epoch 45/45\n",
            "45/45 [==============================] - ETA: 0s - loss: -5546011275558912.0000 - acc: 0.1556\n",
            "Epoch 00045: val_acc did not improve from 0.40000\n",
            "45/45 [==============================] - 18s 395ms/step - loss: -5546011275558912.0000 - acc: 0.1556 - val_loss: -4317893294555136.0000 - val_acc: 0.1000\n"
          ]
        }
      ]
    },
    {
      "cell_type": "markdown",
      "source": [
        "# 06. Model Evaluation"
      ],
      "metadata": {
        "id": "q-t-7RTEpllH"
      }
    },
    {
      "cell_type": "markdown",
      "source": [
        "### #001 - Using Graph"
      ],
      "metadata": {
        "id": "MaAcsqkgpug-"
      }
    },
    {
      "cell_type": "code",
      "source": [
        "import matplotlib.pyplot as plt\n",
        "acc = history.history['acc']\n",
        "val_acc = history.history['val_acc']\n",
        "loss = history.history['loss']\n",
        "val_loss = history.history['val_loss']\n",
        "\n",
        "epochs = range(len(acc))\n",
        "\n",
        "# =================================\n",
        "# 1 - Training and Validation Graph \n",
        "# =================================\n",
        "\n",
        "# Retrieve a list of list results on training and test data\n",
        "# sets for each training epoch\n",
        "\n",
        "plt.plot(epochs, acc, label='Training accuracy')\n",
        "plt.plot(epochs, val_acc, label='Validation accuracy')\n",
        "plt.title('Training and validation accuracy')\n",
        "plt.legend()\n",
        "\n",
        "plt.show()\n",
        "\n",
        "# ======================================\n",
        "# 2 - Training and Validation Loss Graph \n",
        "# ======================================\n",
        "\n",
        "# Plot training and validation loss per epoch\n",
        "\n",
        "plt.plot(epochs, loss, label='Training Loss')\n",
        "plt.plot(epochs, val_loss, label='Validation Loss')\n",
        "plt.title('Training and validation loss')\n",
        "plt.legend()\n",
        "\n",
        "plt.show()"
      ],
      "metadata": {
        "colab": {
          "base_uri": "https://localhost:8080/",
          "height": 545
        },
        "id": "xBcSknE7rdcj",
        "outputId": "9c81ebe0-f8c5-4251-bf0f-1ee39576c3a2"
      },
      "execution_count": 37,
      "outputs": [
        {
          "output_type": "display_data",
          "data": {
            "image/png": "[encoded data removed]",
            "text/plain": [
              "<Figure size 432x288 with 1 Axes>"
            ]
          },
          "metadata": {
            "needs_background": "light"
          }
        },
        {
          "output_type": "display_data",
          "data": {
            "image/png": "[encoded data removed]",
            "text/plain": [
              "<Figure size 432x288 with 1 Axes>"
            ]
          },
          "metadata": {
            "needs_background": "light"
          }
        }
      ]
    },
    {
      "cell_type": "markdown",
      "source": [
        "### #002 - Using Confusion Metrix"
      ],
      "metadata": {
        "id": "8OmYFyHgs-Y5"
      }
    },
    {
      "cell_type": "code",
      "source": [
        "# Import library yang dibutuhkan \n",
        "\n",
        "import matplotlib.pyplot as plt\n",
        "from sklearn.metrics import f1_score, recall_score, accuracy_score\n",
        "from sklearn.metrics import precision_score, confusion_matrix, classification_report\n",
        "import seaborn as sns\n",
        "import numpy as np\n",
        "sns.set(style=\"whitegrid\")"
      ],
      "metadata": {
        "id": "Ql5AWz4Vs_Vh"
      },
      "execution_count": 38,
      "outputs": []
    },
    {
      "cell_type": "code",
      "source": [
        "def my_metrics(y_true, y_pred):\n",
        "  accuracy=accuracy_score(y_true, y_pred)\n",
        "  precision=precision_score(y_true, y_pred, average=\"weighted\")\n",
        "  f1Score=f1_score(y_true, y_pred, average=\"weighted\")\n",
        "  print(\"Accuracy : {}\".format(accuracy))\n",
        "  print(\"Precision : {}\".format(precision))\n",
        "  print(\"f1Score : {}\".format(f1Score))\n",
        "  cm=confusion_matrix(y_true, y_pred)\n",
        "  print(cm)\n",
        "  return accuracy, precision, f1Score\n",
        "\n",
        "\n",
        "\n",
        "predictions = model.predict_generator(generator=validation_generator)\n",
        "yPredictions = predictions > 0.5\n",
        "true_classes = validation_generator.classes\n",
        "class_names = validation_generator.class_indices\n",
        "Cmatrix_test = confusion_matrix(true_classes, yPredictions)\n",
        "\n",
        "testAcc, testPrec, testFScore = my_metrics(true_classes, yPredictions)\n",
        "\n",
        "plt.figure(figsize=(15, 15))\n",
        "ax=plt.subplot()\n",
        "data = np.asarray(Cmatrix_test).reshape(7,7)\n",
        "sns.heatmap(data, annot=True, fmt=\"\", ax=ax, cmap=plt.cm.Reds)\n",
        "ax.set_xlabel(\"Predicted labels\")\n",
        "ax.set_ylabel(\"True labels\")\n",
        "ax.set_title(\"Confusion Matrix\")\n",
        "ax.xaxis.set_ticklabels(class_names)\n",
        "ax.yaxis.set_ticklabels(class_names)\n",
        "plt.title(\"Confusion Matrix Test\", fontsize=14)\n",
        "plt.show()"
      ],
      "metadata": {
        "colab": {
          "base_uri": "https://localhost:8080/",
          "height": 1000
        },
        "id": "RNgL_wo6tBif",
        "outputId": "63c054f2-8f42-489b-a7ec-d7867eaba206"
      },
      "execution_count": 40,
      "outputs": [
        {
          "output_type": "stream",
          "name": "stderr",
          "text": [
            "/usr/local/lib/python3.7/dist-packages/ipykernel_launcher.py:14: UserWarning: `Model.predict_generator` is deprecated and will be removed in a future version. Please use `Model.predict`, which supports generators.\n",
            "  \n",
            "/usr/local/lib/python3.7/dist-packages/sklearn/metrics/_classification.py:1308: UndefinedMetricWarning: Precision is ill-defined and being set to 0.0 in labels with no predicted samples. Use `zero_division` parameter to control this behavior.\n",
            "  _warn_prf(average, modifier, msg_start, len(result))\n"
          ]
        },
        {
          "output_type": "stream",
          "name": "stdout",
          "text": [
            "Accuracy : 0.14285714285714285\n",
            "Precision : 0.02040816326530612\n",
            "f1Score : 0.03571428571428571\n",
            "[[0 5 0 0 0 0 0]\n",
            " [0 5 0 0 0 0 0]\n",
            " [0 5 0 0 0 0 0]\n",
            " [0 5 0 0 0 0 0]\n",
            " [0 5 0 0 0 0 0]\n",
            " [0 5 0 0 0 0 0]\n",
            " [0 5 0 0 0 0 0]]\n"
          ]
        },
        {
          "output_type": "display_data",
          "data": {
            "image/png": "[encoded data removed]",
            "text/plain": [
              "<Figure size 1080x1080 with 2 Axes>"
            ]
          },
          "metadata": {}
        }
      ]
    },
    {
      "cell_type": "markdown",
      "source": [
        "### #003 - Using Classification Report"
      ],
      "metadata": {
        "id": "814oOFHOtzWX"
      }
    },
    {
      "cell_type": "code",
      "source": [
        "from sklearn.metrics import classification_report\n",
        "print(classification_report(true_classes, yPredictions, target_names=class_names))"
      ],
      "metadata": {
        "colab": {
          "base_uri": "https://localhost:8080/"
        },
        "id": "0OSz_hiut3rF",
        "outputId": "34a78897-e3e0-48c5-d614-ca3a1900ffb4"
      },
      "execution_count": 41,
      "outputs": [
        {
          "output_type": "stream",
          "name": "stdout",
          "text": [
            "                 precision    recall  f1-score   support\n",
            "\n",
            "Belimbing wuluh       0.00      0.00      0.00         5\n",
            "     Daun Jeruk       0.14      1.00      0.25         5\n",
            "     Daun Sirih       0.00      0.00      0.00         5\n",
            "     Jambu Biji       0.00      0.00      0.00         5\n",
            "    Lidah Buaya       0.00      0.00      0.00         5\n",
            "         Pepaya       0.00      0.00      0.00         5\n",
            "        Seledri       0.00      0.00      0.00         5\n",
            "\n",
            "       accuracy                           0.14        35\n",
            "      macro avg       0.02      0.14      0.04        35\n",
            "   weighted avg       0.02      0.14      0.04        35\n",
            "\n"
          ]
        },
        {
          "output_type": "stream",
          "name": "stderr",
          "text": [
            "/usr/local/lib/python3.7/dist-packages/sklearn/metrics/_classification.py:1308: UndefinedMetricWarning: Precision and F-score are ill-defined and being set to 0.0 in labels with no predicted samples. Use `zero_division` parameter to control this behavior.\n",
            "  _warn_prf(average, modifier, msg_start, len(result))\n",
            "/usr/local/lib/python3.7/dist-packages/sklearn/metrics/_classification.py:1308: UndefinedMetricWarning: Precision and F-score are ill-defined and being set to 0.0 in labels with no predicted samples. Use `zero_division` parameter to control this behavior.\n",
            "  _warn_prf(average, modifier, msg_start, len(result))\n",
            "/usr/local/lib/python3.7/dist-packages/sklearn/metrics/_classification.py:1308: UndefinedMetricWarning: Precision and F-score are ill-defined and being set to 0.0 in labels with no predicted samples. Use `zero_division` parameter to control this behavior.\n",
            "  _warn_prf(average, modifier, msg_start, len(result))\n"
          ]
        }
      ]
    },
    {
      "cell_type": "markdown",
      "source": [
        "# 07. Testing Model"
      ],
      "metadata": {
        "id": "7KO4jo0TcJ35"
      }
    },
    {
      "cell_type": "markdown",
      "source": [
        "### #001 - Load Model"
      ],
      "metadata": {
        "id": "lZJNb04ycvaR"
      }
    },
    {
      "cell_type": "code",
      "source": [
        "# loading model to evaluate more depth\n",
        "\n",
        "from keras.models import load_model\n",
        "model_path = \"/content/gdrive/MyDrive/Colab Notebooks/DH_CNN/Model Dataset/model_drop_batch_weight_from_callback.h5\"\n",
        "model = load_model(model_path)"
      ],
      "metadata": {
        "id": "aJkQ9ZgJcwlA"
      },
      "execution_count": 42,
      "outputs": []
    },
    {
      "cell_type": "markdown",
      "source": [
        "### #002 - Run Model"
      ],
      "metadata": {
        "id": "yeNPZr7vc2yH"
      }
    },
    {
      "cell_type": "code",
      "source": [
        "# enter the directory for saving uploaded sample image\n",
        "\n",
        "%cd \"/content/gdrive/MyDrive/Colab Notebooks/DH_CNN/Test Algorithm\""
      ],
      "metadata": {
        "colab": {
          "base_uri": "https://localhost:8080/"
        },
        "id": "Yj6eiTKSddfm",
        "outputId": "cd665dc0-8924-4ba5-bc60-15a141509098"
      },
      "execution_count": 43,
      "outputs": [
        {
          "output_type": "stream",
          "name": "stdout",
          "text": [
            "/content/gdrive/MyDrive/Colab Notebooks/DH_CNN/Test Algorithm\n"
          ]
        }
      ]
    },
    {
      "cell_type": "code",
      "source": [
        "import numpy as np\n",
        "\n",
        "from google.colab import files\n",
        "from keras.preprocessing import image\n",
        "\n",
        "uploaded = files.upload()\n",
        "\n",
        "for fn in uploaded.keys():\n",
        "\n",
        "  # predicting images\n",
        "  path = fn\n",
        "  img = image.load_img(path, target_size = (150, 150))\n",
        "\n",
        "  x = image.img_to_array(img)\n",
        "  x = np.expand_dims(x, axis = 0)\n",
        "  images = np.vstack([x])\n",
        "\n",
        "  classes = model.predict(images, batch_size = 10)\n",
        "\n",
        "  print(classes[0])\n",
        "\n",
        "  if classes[0] > 0:\n",
        "    print(fn + \" is a daun jeruk\")\n",
        "\n",
        "  else :\n",
        "    print(fn + \" is a daun sirih\")\n",
        "    print(fn + \" is a daun belimbing\")\n",
        "    print(fn + \" is a daun pepaya\")\n",
        "    print(fn + \" is a daun jambu biji\")\n",
        "    print(fn + \" is a daun lidah buaya\")\n",
        "    print(fn + \" is a daun seledri\")"
      ],
      "metadata": {
        "colab": {
          "resources": {
            "http://localhost:8080/nbextensions/google.colab/files.js": {
              "data": "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",
              "ok": true,
              "headers": [
                [
                  "content-type",
                  "application/javascript"
                ]
              ],
              "status": 200,
              "status_text": ""
            }
          },
          "base_uri": "https://localhost:8080/",
          "height": 110
        },
        "id": "XzZulhEmdwZ8",
        "outputId": "1abc4277-ff54-4393-a841-7675753c8d95"
      },
      "execution_count": 45,
      "outputs": [
        {
          "output_type": "display_data",
          "data": {
            "text/html": [
              "\n",
              "     <input type=\"file\" id=\"files-14fe6b3d-83be-4023-9ae2-ab5395ceecfd\" name=\"files[]\" multiple disabled\n",
              "        style=\"border:none\" />\n",
              "     <output id=\"result-14fe6b3d-83be-4023-9ae2-ab5395ceecfd\">\n",
              "      Upload widget is only available when the cell has been executed in the\n",
              "      current browser session. Please rerun this cell to enable.\n",
              "      </output>\n",
              "      <script src=\"/nbextensions/google.colab/files.js\"></script> "
            ],
            "text/plain": [
              "<IPython.core.display.HTML object>"
            ]
          },
          "metadata": {}
        },
        {
          "output_type": "stream",
          "name": "stdout",
          "text": [
            "Saving 001.jpg to 001.jpg\n",
            "[1.]\n",
            "001.jpg is a daun jeruk\n"
          ]
        }
      ]
    },
    {
      "cell_type": "markdown",
      "source": [
        "### #003 - Reset (Remove uploaded files)"
      ],
      "metadata": {
        "id": "Fbv0LuWjeHd_"
      }
    },
    {
      "cell_type": "code",
      "source": [
        "# enter the directory for saving uploaded sample image\n",
        "\n",
        "%cd \"/content/gdrive/MyDrive/Colab Notebooks/DH_CNN\""
      ],
      "metadata": {
        "colab": {
          "base_uri": "https://localhost:8080/"
        },
        "id": "Rm-2XUkTeNxb",
        "outputId": "758d4064-4e0b-4840-ade3-db632dd2aed4"
      },
      "execution_count": 46,
      "outputs": [
        {
          "output_type": "stream",
          "name": "stdout",
          "text": [
            "/content/gdrive/MyDrive/Colab Notebooks/DH_CNN\n"
          ]
        }
      ]
    },
    {
      "cell_type": "code",
      "source": [
        "import os\n",
        "import shutil\n",
        "\n",
        "# Delete folder\n",
        "shutil.rmtree(\"Test Algorithm\")\n",
        "\n",
        "# Create folder\n",
        "os.mkdir(\"Test Algorithm\")"
      ],
      "metadata": {
        "id": "bTQ3VH88eOL8"
      },
      "execution_count": 47,
      "outputs": []
    },
    {
      "cell_type": "code",
      "source": [
        "!ls"
      ],
      "metadata": {
        "colab": {
          "base_uri": "https://localhost:8080/"
        },
        "id": "pDvsX_r3ePyM",
        "outputId": "7649fac7-202a-417b-fd86-63620c930d2a"
      },
      "execution_count": 48,
      "outputs": [
        {
          "output_type": "stream",
          "name": "stdout",
          "text": [
            "'Analyze Dataset'   'Model Dataset'\t  'Test Algorithm'\n",
            "'Dataset Original'  'Model Dataset Daun'\n"
          ]
        }
      ]
    }
  ]
}